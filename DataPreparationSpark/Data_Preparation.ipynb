{
 "cells": [
  {
   "cell_type": "code",
   "execution_count": 1,
   "metadata": {},
   "outputs": [
    {
     "name": "stdout",
     "output_type": "stream",
     "text": [
      "Calculation started (calculation_id=92c91821-c048-2ef8-9d96-436f0083f9b0) in (session=3ac91821-7fcf-5492-13d1-7ac10056f63d). Checking calculation status...\n"
     ]
    },
    {
     "data": {
      "application/vnd.jupyter.widget-view+json": {
       "model_id": "9e24eff3171c493f9f92704d7bf132f0",
       "version_major": 2,
       "version_minor": 0
      },
      "text/plain": [
       "Progress:   0%|          |elapsed time = 00:00s"
      ]
     },
     "metadata": {},
     "output_type": "display_data"
    },
    {
     "name": "stdout",
     "output_type": "stream",
     "text": [
      "Calculation completed.\n"
     ]
    }
   ],
   "source": [
    "# Utilitarios para modificar el esquema de metadatos\n",
    "from pyspark.sql.types import StructType, StructField\n",
    "\n",
    "#Importamos los tipos de datos que definiremos para cada campo\n",
    "from pyspark.sql.types import StringType, IntegerType, DoubleType\n",
    "\n",
    "#Importamos la librerIa de pandas compatible con entornos de clUster de Big Data\n",
    "import pyspark.pandas as pd\n",
    "\n",
    "#Por defecto un dataframe Pandas muestra 1000 registros\n",
    "#Vamos a indicarle que solo muestre 20 para que no se sature el notebook\n",
    "pd.set_option(\"display.max_rows\", 20)\n",
    "\n",
    "#Libreria para manipular los servicios de AWS\n",
    "import boto3"
   ]
  },
  {
   "cell_type": "code",
   "execution_count": 3,
   "metadata": {},
   "outputs": [
    {
     "name": "stdout",
     "output_type": "stream",
     "text": [
      "Calculation started (calculation_id=48c91822-2783-1f8e-11b6-493481663d31) in (session=3ac91821-7fcf-5492-13d1-7ac10056f63d). Checking calculation status...\n"
     ]
    },
    {
     "data": {
      "application/vnd.jupyter.widget-view+json": {
       "model_id": "331ef1a12ef84378939afb6d3be74ea8",
       "version_major": 2,
       "version_minor": 0
      },
      "text/plain": [
       "Progress:   0%|          |elapsed time = 00:00s"
      ]
     },
     "metadata": {},
     "output_type": "display_data"
    },
    {
     "name": "stdout",
     "output_type": "stream",
     "text": [
      "Calculation completed.\n"
     ]
    }
   ],
   "source": [
    "#Nombre del bucket desde donde se lee el archivo\n",
    "#IMPORTANTE: REEMPLAZAR \"XXX\" POR TUS INICIALES\n",
    "bucket = \"datasetsbdajac\"\n"
   ]
  },
  {
   "cell_type": "code",
   "execution_count": 4,
   "metadata": {},
   "outputs": [
    {
     "name": "stdout",
     "output_type": "stream",
     "text": [
      "Calculation started (calculation_id=8ec91822-514d-f86a-45a9-e0a3f5f2b475) in (session=3ac91821-7fcf-5492-13d1-7ac10056f63d). Checking calculation status...\n"
     ]
    },
    {
     "data": {
      "application/vnd.jupyter.widget-view+json": {
       "model_id": "fe121496245642cf91638827f4ec3859",
       "version_major": 2,
       "version_minor": 0
      },
      "text/plain": [
       "Progress:   0%|          |elapsed time = 00:00s"
      ]
     },
     "metadata": {},
     "output_type": "display_data"
    },
    {
     "name": "stdout",
     "output_type": "stream",
     "text": [
      "Calculation completed.\n"
     ]
    }
   ],
   "source": [
    "#Ruta dentro del archivo dentro del bucket\n",
    "rutaDeArchivo = \"data/insurance\""
   ]
  },
  {
   "cell_type": "code",
   "execution_count": 5,
   "metadata": {},
   "outputs": [
    {
     "name": "stdout",
     "output_type": "stream",
     "text": [
      "Calculation started (calculation_id=5ec91822-7804-0d8f-aaec-68d8a6e719ba) in (session=3ac91821-7fcf-5492-13d1-7ac10056f63d). Checking calculation status...\n"
     ]
    },
    {
     "data": {
      "application/vnd.jupyter.widget-view+json": {
       "model_id": "d570dbdabaaf4574a948772342778f2b",
       "version_major": 2,
       "version_minor": 0
      },
      "text/plain": [
       "Progress:   0%|          |elapsed time = 00:00s"
      ]
     },
     "metadata": {},
     "output_type": "display_data"
    },
    {
     "name": "stdout",
     "output_type": "stream",
     "text": [
      "Calculation completed.\n"
     ]
    }
   ],
   "source": [
    "#Definicion del esquema de metadatos\n",
    "schema = StructType(\n",
    "    [\n",
    "        StructField(\"age\", DoubleType(), True),\n",
    "        StructField(\"sex\", StringType(), True),\n",
    "        StructField(\"bmi\", DoubleType(), True),\n",
    "        StructField(\"children\", DoubleType(), True),\n",
    "        StructField(\"smoker\", StringType(), True),\n",
    "        StructField(\"region\", StringType(), True),\n",
    "        StructField(\"charges\", DoubleType(), True)\n",
    "    ]\n",
    ")"
   ]
  },
  {
   "cell_type": "code",
   "execution_count": 6,
   "metadata": {},
   "outputs": [
    {
     "name": "stdout",
     "output_type": "stream",
     "text": [
      "Calculation started (calculation_id=38c91822-9f8f-5f5d-0a66-074a41931282) in (session=3ac91821-7fcf-5492-13d1-7ac10056f63d). Checking calculation status...\n"
     ]
    },
    {
     "data": {
      "application/vnd.jupyter.widget-view+json": {
       "model_id": "06f1902be269400e83f274c53380b03b",
       "version_major": 2,
       "version_minor": 0
      },
      "text/plain": [
       "Progress:   0%|          |elapsed time = 00:00s"
      ]
     },
     "metadata": {},
     "output_type": "display_data"
    },
    {
     "name": "stdout",
     "output_type": "stream",
     "text": [
      "Calculation completed.\n"
     ]
    }
   ],
   "source": [
    "#Definimos las variables categoricas\n",
    "categorias = [\n",
    "  \"sex\",\n",
    "  \"region\",\n",
    "  \"smoker\"\n",
    "]"
   ]
  },
  {
   "cell_type": "code",
   "execution_count": 7,
   "metadata": {},
   "outputs": [
    {
     "name": "stdout",
     "output_type": "stream",
     "text": [
      "Calculation started (calculation_id=c6c91822-ba95-1017-842a-bff70798f84f) in (session=3ac91821-7fcf-5492-13d1-7ac10056f63d). Checking calculation status...\n"
     ]
    },
    {
     "data": {
      "application/vnd.jupyter.widget-view+json": {
       "model_id": "7215cba0dfab4a5a879a60a642bfd2e8",
       "version_major": 2,
       "version_minor": 0
      },
      "text/plain": [
       "Progress:   0%|          |elapsed time = 00:00s"
      ]
     },
     "metadata": {},
     "output_type": "display_data"
    },
    {
     "name": "stdout",
     "output_type": "stream",
     "text": [
      "Calculation completed.\n"
     ]
    }
   ],
   "source": [
    "#Campo label\n",
    "label = \"charges\""
   ]
  },
  {
   "cell_type": "code",
   "execution_count": 8,
   "metadata": {},
   "outputs": [
    {
     "name": "stdout",
     "output_type": "stream",
     "text": [
      "Calculation started (calculation_id=6ac91823-2943-90f1-8759-58c3553db3be) in (session=3ac91821-7fcf-5492-13d1-7ac10056f63d). Checking calculation status...\n"
     ]
    },
    {
     "data": {
      "application/vnd.jupyter.widget-view+json": {
       "model_id": "e0fab5c3ac544f86885e999c7256daa7",
       "version_major": 2,
       "version_minor": 0
      },
      "text/plain": [
       "Progress:   0%|          |elapsed time = 00:00s"
      ]
     },
     "metadata": {},
     "output_type": "display_data"
    },
    {
     "name": "stdout",
     "output_type": "stream",
     "text": [
      "Calculation completed.\n"
     ]
    }
   ],
   "source": [
    "#Definimos la ruta desde donde se lee el archivo de datos que se preparara\n",
    "#En Python 3, podemos anteponer \"f\" en una cadena para reemplazar valores\n",
    "rutaArchivoRaw = f\"s3://{bucket}/{rutaDeArchivo}/\""
   ]
  },
  {
   "cell_type": "code",
   "execution_count": 9,
   "metadata": {},
   "outputs": [
    {
     "name": "stdout",
     "output_type": "stream",
     "text": [
      "Calculation started (calculation_id=5cc91823-4449-ba3c-9214-f63ec9b6772a) in (session=3ac91821-7fcf-5492-13d1-7ac10056f63d). Checking calculation status...\n"
     ]
    },
    {
     "data": {
      "application/vnd.jupyter.widget-view+json": {
       "model_id": "49ac3e49385849798270a5e2d96ed398",
       "version_major": 2,
       "version_minor": 0
      },
      "text/plain": [
       "Progress:   0%|          |elapsed time = 00:00s"
      ]
     },
     "metadata": {},
     "output_type": "display_data"
    },
    {
     "name": "stdout",
     "output_type": "stream",
     "text": [
      "Calculation completed.\n",
      "s3://datasetsbdajac/data/insurance/\n",
      "\n"
     ]
    }
   ],
   "source": [
    "#Verificamos\n",
    "print(rutaArchivoRaw)"
   ]
  },
  {
   "cell_type": "code",
   "execution_count": 10,
   "metadata": {},
   "outputs": [
    {
     "name": "stdout",
     "output_type": "stream",
     "text": [
      "Calculation started (calculation_id=fac91823-795c-3df8-bb50-6429cbc04fe7) in (session=3ac91821-7fcf-5492-13d1-7ac10056f63d). Checking calculation status...\n"
     ]
    },
    {
     "data": {
      "application/vnd.jupyter.widget-view+json": {
       "model_id": "2784bdf8d2cc4954823d8b5ae2607e75",
       "version_major": 2,
       "version_minor": 0
      },
      "text/plain": [
       "Progress:   0%|          |elapsed time = 00:00s"
      ]
     },
     "metadata": {},
     "output_type": "display_data"
    },
    {
     "name": "stdout",
     "output_type": "stream",
     "text": [
      "Calculation completed.\n",
      "s3://datasetsbdajac/data/insurance_dataset/\n",
      "\n"
     ]
    }
   ],
   "source": [
    "#Definimos la ruta en donde se almacenara el 100% de los registros del dataset preparado\n",
    "rutaArchivoDataset = f\"s3://{bucket}/{rutaDeArchivo}_dataset/\"\n",
    "\n",
    "#Verificamos\n",
    "print(rutaArchivoDataset)"
   ]
  },
  {
   "cell_type": "code",
   "execution_count": 11,
   "metadata": {},
   "outputs": [
    {
     "name": "stdout",
     "output_type": "stream",
     "text": [
      "Calculation started (calculation_id=f0c91824-81c4-2347-e06c-fde3c4ea5646) in (session=3ac91821-7fcf-5492-13d1-7ac10056f63d). Checking calculation status...\n"
     ]
    },
    {
     "data": {
      "application/vnd.jupyter.widget-view+json": {
       "model_id": "cc24e3c90d6c415393e1de6f2d65a237",
       "version_major": 2,
       "version_minor": 0
      },
      "text/plain": [
       "Progress:   0%|          |elapsed time = 00:00s"
      ]
     },
     "metadata": {},
     "output_type": "display_data"
    },
    {
     "name": "stdout",
     "output_type": "stream",
     "text": [
      "Calculation completed.\n",
      "root\n",
      " |-- age: double (nullable = true)\n",
      " |-- sex: string (nullable = true)\n",
      " |-- bmi: double (nullable = true)\n",
      " |-- children: double (nullable = true)\n",
      " |-- smoker: string (nullable = true)\n",
      " |-- region: string (nullable = true)\n",
      " |-- charges: double (nullable = true)\n",
      "\n",
      "+----+------+------+--------+------+---------+-----------+\n",
      "| age|   sex|   bmi|children|smoker|   region|    charges|\n",
      "+----+------+------+--------+------+---------+-----------+\n",
      "|19.0|female|  27.9|     0.0|   yes|southwest|  16884.924|\n",
      "|18.0|  male| 33.77|     1.0|    no|southeast|  1725.5523|\n",
      "|28.0|  male|  33.0|     3.0|    no|southeast|   4449.462|\n",
      "|33.0|  male|22.705|     0.0|    no|northwest|21984.47061|\n",
      "|32.0|  male| 28.88|     0.0|    no|northwest|  3866.8552|\n",
      "|31.0|female| 25.74|     0.0|    no|southeast|  3756.6216|\n",
      "|46.0|female| 33.44|     1.0|    no|southeast|  8240.5896|\n",
      "|37.0|female| 27.74|     3.0|    no|northwest|  7281.5056|\n",
      "|37.0|  male| 29.83|     2.0|    no|northeast|  6406.4107|\n",
      "|60.0|female| 25.84|     0.0|    no|northwest|28923.13692|\n",
      "|25.0|  male| 26.22|     0.0|    no|northeast|  2721.3208|\n",
      "|62.0|female| 26.29|     0.0|   yes|southeast| 27808.7251|\n",
      "|23.0|  male|  34.4|     0.0|    no|southwest|   1826.843|\n",
      "|56.0|female| 39.82|     0.0|    no|southeast| 11090.7178|\n",
      "|27.0|  male| 42.13|     0.0|   yes|southeast| 39611.7577|\n",
      "|19.0|  male|  24.6|     1.0|    no|southwest|   1837.237|\n",
      "|52.0|female| 30.78|     1.0|    no|northeast| 10797.3362|\n",
      "|23.0|  male|23.845|     0.0|    no|northeast| 2395.17155|\n",
      "|56.0|  male|  40.3|     0.0|    no|southwest|  10602.385|\n",
      "|30.0|  male|  35.3|     0.0|   yes|southwest|  36837.467|\n",
      "+----+------+------+--------+------+---------+-----------+\n",
      "only showing top 20 rows\n",
      "\n"
     ]
    }
   ],
   "source": [
    "#Leemos los datos\n",
    "dfRaw = spark.read.format(\"csv\").option(\"header\", \"true\").option(\"delimiter\", \",\").option(\"encoding\", \"ISO-8859-1\").schema(schema).load(rutaArchivoRaw)\n",
    "\n",
    "#Vemos el esquema de metadatos\n",
    "dfRaw.printSchema()\n",
    "\n",
    "#Verificamos\n",
    "dfRaw.show()"
   ]
  },
  {
   "cell_type": "code",
   "execution_count": 12,
   "metadata": {},
   "outputs": [
    {
     "name": "stdout",
     "output_type": "stream",
     "text": [
      "Calculation started (calculation_id=06c91824-e67e-3d25-e3ae-b8303652b6e9) in (session=3ac91821-7fcf-5492-13d1-7ac10056f63d). Checking calculation status...\n"
     ]
    },
    {
     "data": {
      "application/vnd.jupyter.widget-view+json": {
       "model_id": "e27daca067e543fba183f9ddeec49e46",
       "version_major": 2,
       "version_minor": 0
      },
      "text/plain": [
       "Progress:   0%|          |elapsed time = 00:00s"
      ]
     },
     "metadata": {},
     "output_type": "display_data"
    },
    {
     "name": "stdout",
     "output_type": "stream",
     "text": [
      "Calculation completed.\n",
      "     age     sex     bmi  children smoker     region      charges\n",
      "0   19.0  female  27.900       0.0    yes  southwest  16884.92400\n",
      "1   18.0    male  33.770       1.0     no  southeast   1725.55230\n",
      "2   28.0    male  33.000       3.0     no  southeast   4449.46200\n",
      "3   33.0    male  22.705       0.0     no  northwest  21984.47061\n",
      "4   32.0    male  28.880       0.0     no  northwest   3866.85520\n",
      "5   31.0  female  25.740       0.0     no  southeast   3756.62160\n",
      "6   46.0  female  33.440       1.0     no  southeast   8240.58960\n",
      "7   37.0  female  27.740       3.0     no  northwest   7281.50560\n",
      "8   37.0    male  29.830       2.0     no  northeast   6406.41070\n",
      "9   60.0  female  25.840       0.0     no  northwest  28923.13692\n",
      "10  25.0    male  26.220       0.0     no  northeast   2721.32080\n",
      "11  62.0  female  26.290       0.0    yes  southeast  27808.72510\n",
      "12  23.0    male  34.400       0.0     no  southwest   1826.84300\n",
      "13  56.0  female  39.820       0.0     no  southeast  11090.71780\n",
      "14  27.0    male  42.130       0.0    yes  southeast  39611.75770\n",
      "15  19.0    male  24.600       1.0     no  southwest   1837.23700\n",
      "16  52.0  female  30.780       1.0     no  northeast  10797.33620\n",
      "17  23.0    male  23.845       0.0     no  northeast   2395.17155\n",
      "18  56.0    male  40.300       0.0     no  southwest  10602.38500\n",
      "19  30.0    male  35.300       0.0    yes  southwest  36837.46700\n",
      "\n",
      "[Showing only the first 20 rows x 7 columns]\n",
      "\n"
     ]
    }
   ],
   "source": [
    "#Convertimos el dataframe SPARK a un dataframe PANDAS\n",
    "dfpRaw = pd.from_pandas(dfRaw.toPandas())\n",
    "\n",
    "#Verificamos\n",
    "dfpRaw"
   ]
  },
  {
   "cell_type": "code",
   "execution_count": 13,
   "metadata": {},
   "outputs": [
    {
     "name": "stdout",
     "output_type": "stream",
     "text": [
      "Calculation started (calculation_id=58c91825-2241-6002-5974-a93e9b4fcbd5) in (session=3ac91821-7fcf-5492-13d1-7ac10056f63d). Checking calculation status...\n"
     ]
    },
    {
     "data": {
      "application/vnd.jupyter.widget-view+json": {
       "model_id": "f58de37509074a4ba3b01760fd543984",
       "version_major": 2,
       "version_minor": 0
      },
      "text/plain": [
       "Progress:   0%|          |elapsed time = 00:00s"
      ]
     },
     "metadata": {},
     "output_type": "display_data"
    },
    {
     "name": "stdout",
     "output_type": "stream",
     "text": [
      "Calculation completed.\n",
      "     age     bmi  children      charges  sex_female  sex_male  region_northeast  region_northwest  region_southeast  region_southwest  smoker_no  smoker_yes\n",
      "0   19.0  27.900       0.0  16884.92400           1         0                 0                 0                 0                 1          0           1\n",
      "1   18.0  33.770       1.0   1725.55230           0         1                 0                 0                 1                 0          1           0\n",
      "2   28.0  33.000       3.0   4449.46200           0         1                 0                 0                 1                 0          1           0\n",
      "3   33.0  22.705       0.0  21984.47061           0         1                 0                 1                 0                 0          1           0\n",
      "4   32.0  28.880       0.0   3866.85520           0         1                 0                 1                 0                 0          1           0\n",
      "5   31.0  25.740       0.0   3756.62160           1         0                 0                 0                 1                 0          1           0\n",
      "6   46.0  33.440       1.0   8240.58960           1         0                 0                 0                 1                 0          1           0\n",
      "7   37.0  27.740       3.0   7281.50560           1         0                 0                 1                 0                 0          1           0\n",
      "8   37.0  29.830       2.0   6406.41070           0         1                 1                 0                 0                 0          1           0\n",
      "9   60.0  25.840       0.0  28923.13692           1         0                 0                 1                 0                 0          1           0\n",
      "10  25.0  26.220       0.0   2721.32080           0         1                 1                 0                 0                 0          1           0\n",
      "11  62.0  26.290       0.0  27808.72510           1         0                 0                 0                 1                 0          0           1\n",
      "12  23.0  34.400       0.0   1826.84300           0         1                 0                 0                 0                 1          1           0\n",
      "13  56.0  39.820       0.0  11090.71780           1         0                 0                 0                 1                 0          1           0\n",
      "14  27.0  42.130       0.0  39611.75770           0         1                 0                 0                 1                 0          0           1\n",
      "15  19.0  24.600       1.0   1837.23700           0         1                 0                 0                 0                 1          1           0\n",
      "16  52.0  30.780       1.0  10797.33620           1         0                 1                 0                 0                 0          1           0\n",
      "17  23.0  23.845       0.0   2395.17155           0         1                 1                 0                 0                 0          1           0\n",
      "18  56.0  40.300       0.0  10602.38500           0         1                 0                 0                 0                 1          1           0\n",
      "19  30.0  35.300       0.0  36837.46700           0         1                 0                 0                 0                 1          0           1\n",
      "\n",
      "[Showing only the first 20 rows x 12 columns]\n",
      "\n"
     ]
    }
   ],
   "source": [
    "#Conversion de variables categoricas a variables numericas en columnas dummy\n",
    "dfpDataset = pd.get_dummies(dfpRaw, columns = categorias)\n",
    "\n",
    "#Verificamos\n",
    "dfpDataset"
   ]
  },
  {
   "cell_type": "code",
   "execution_count": 14,
   "metadata": {},
   "outputs": [
    {
     "name": "stdout",
     "output_type": "stream",
     "text": [
      "Calculation started (calculation_id=c0c91825-7935-e57d-4caa-b39d752910e5) in (session=3ac91821-7fcf-5492-13d1-7ac10056f63d). Checking calculation status...\n"
     ]
    },
    {
     "data": {
      "application/vnd.jupyter.widget-view+json": {
       "model_id": "2f456cc4d57a4e6184943d4adcc87956",
       "version_major": 2,
       "version_minor": 0
      },
      "text/plain": [
       "Progress:   0%|          |elapsed time = 00:00s"
      ]
     },
     "metadata": {},
     "output_type": "display_data"
    },
    {
     "name": "stdout",
     "output_type": "stream",
     "text": [
      "Calculation completed.\n",
      "+----+------+--------+-----------+----------+--------+----------------+----------------+----------------+----------------+---------+----------+\n",
      "| age|   bmi|children|    charges|sex_female|sex_male|region_northeast|region_northwest|region_southeast|region_southwest|smoker_no|smoker_yes|\n",
      "+----+------+--------+-----------+----------+--------+----------------+----------------+----------------+----------------+---------+----------+\n",
      "|19.0|  27.9|     0.0|  16884.924|         1|       0|               0|               0|               0|               1|        0|         1|\n",
      "|18.0| 33.77|     1.0|  1725.5523|         0|       1|               0|               0|               1|               0|        1|         0|\n",
      "|28.0|  33.0|     3.0|   4449.462|         0|       1|               0|               0|               1|               0|        1|         0|\n",
      "|33.0|22.705|     0.0|21984.47061|         0|       1|               0|               1|               0|               0|        1|         0|\n",
      "|32.0| 28.88|     0.0|  3866.8552|         0|       1|               0|               1|               0|               0|        1|         0|\n",
      "|31.0| 25.74|     0.0|  3756.6216|         1|       0|               0|               0|               1|               0|        1|         0|\n",
      "|46.0| 33.44|     1.0|  8240.5896|         1|       0|               0|               0|               1|               0|        1|         0|\n",
      "|37.0| 27.74|     3.0|  7281.5056|         1|       0|               0|               1|               0|               0|        1|         0|\n",
      "|37.0| 29.83|     2.0|  6406.4107|         0|       1|               1|               0|               0|               0|        1|         0|\n",
      "|60.0| 25.84|     0.0|28923.13692|         1|       0|               0|               1|               0|               0|        1|         0|\n",
      "|25.0| 26.22|     0.0|  2721.3208|         0|       1|               1|               0|               0|               0|        1|         0|\n",
      "|62.0| 26.29|     0.0| 27808.7251|         1|       0|               0|               0|               1|               0|        0|         1|\n",
      "|23.0|  34.4|     0.0|   1826.843|         0|       1|               0|               0|               0|               1|        1|         0|\n",
      "|56.0| 39.82|     0.0| 11090.7178|         1|       0|               0|               0|               1|               0|        1|         0|\n",
      "|27.0| 42.13|     0.0| 39611.7577|         0|       1|               0|               0|               1|               0|        0|         1|\n",
      "|19.0|  24.6|     1.0|   1837.237|         0|       1|               0|               0|               0|               1|        1|         0|\n",
      "|52.0| 30.78|     1.0| 10797.3362|         1|       0|               1|               0|               0|               0|        1|         0|\n",
      "|23.0|23.845|     0.0| 2395.17155|         0|       1|               1|               0|               0|               0|        1|         0|\n",
      "|56.0|  40.3|     0.0|  10602.385|         0|       1|               0|               0|               0|               1|        1|         0|\n",
      "|30.0|  35.3|     0.0|  36837.467|         0|       1|               0|               0|               0|               1|        0|         1|\n",
      "+----+------+--------+-----------+----------+--------+----------------+----------------+----------------+----------------+---------+----------+\n",
      "only showing top 20 rows\n",
      "\n"
     ]
    }
   ],
   "source": [
    "#Convertimos el dataframe PANDAS a un dataframe SPARK\n",
    "dfDataset = dfpDataset.to_spark()\n",
    "\n",
    "#Verificamos\n",
    "dfDataset.show()"
   ]
  },
  {
   "cell_type": "code",
   "execution_count": 15,
   "metadata": {},
   "outputs": [
    {
     "name": "stdout",
     "output_type": "stream",
     "text": [
      "Calculation started (calculation_id=bac91825-e056-1be0-bd0a-650f5c28ad24) in (session=3ac91821-7fcf-5492-13d1-7ac10056f63d). Checking calculation status...\n"
     ]
    },
    {
     "data": {
      "application/vnd.jupyter.widget-view+json": {
       "model_id": "3fbc62ba8064488389ab4801c134a6e7",
       "version_major": 2,
       "version_minor": 0
      },
      "text/plain": [
       "Progress:   0%|          |elapsed time = 00:00s"
      ]
     },
     "metadata": {},
     "output_type": "display_data"
    },
    {
     "name": "stdout",
     "output_type": "stream",
     "text": [
      "Calculation completed.\n",
      "+-----------+----+------+--------+----------+--------+----------------+----------------+----------------+----------------+---------+----------+\n",
      "|    charges| age|   bmi|children|sex_female|sex_male|region_northeast|region_northwest|region_southeast|region_southwest|smoker_no|smoker_yes|\n",
      "+-----------+----+------+--------+----------+--------+----------------+----------------+----------------+----------------+---------+----------+\n",
      "|  16884.924|19.0|  27.9|     0.0|         1|       0|               0|               0|               0|               1|        0|         1|\n",
      "|  1725.5523|18.0| 33.77|     1.0|         0|       1|               0|               0|               1|               0|        1|         0|\n",
      "|   4449.462|28.0|  33.0|     3.0|         0|       1|               0|               0|               1|               0|        1|         0|\n",
      "|21984.47061|33.0|22.705|     0.0|         0|       1|               0|               1|               0|               0|        1|         0|\n",
      "|  3866.8552|32.0| 28.88|     0.0|         0|       1|               0|               1|               0|               0|        1|         0|\n",
      "|  3756.6216|31.0| 25.74|     0.0|         1|       0|               0|               0|               1|               0|        1|         0|\n",
      "|  8240.5896|46.0| 33.44|     1.0|         1|       0|               0|               0|               1|               0|        1|         0|\n",
      "|  7281.5056|37.0| 27.74|     3.0|         1|       0|               0|               1|               0|               0|        1|         0|\n",
      "|  6406.4107|37.0| 29.83|     2.0|         0|       1|               1|               0|               0|               0|        1|         0|\n",
      "|28923.13692|60.0| 25.84|     0.0|         1|       0|               0|               1|               0|               0|        1|         0|\n",
      "|  2721.3208|25.0| 26.22|     0.0|         0|       1|               1|               0|               0|               0|        1|         0|\n",
      "| 27808.7251|62.0| 26.29|     0.0|         1|       0|               0|               0|               1|               0|        0|         1|\n",
      "|   1826.843|23.0|  34.4|     0.0|         0|       1|               0|               0|               0|               1|        1|         0|\n",
      "| 11090.7178|56.0| 39.82|     0.0|         1|       0|               0|               0|               1|               0|        1|         0|\n",
      "| 39611.7577|27.0| 42.13|     0.0|         0|       1|               0|               0|               1|               0|        0|         1|\n",
      "|   1837.237|19.0|  24.6|     1.0|         0|       1|               0|               0|               0|               1|        1|         0|\n",
      "| 10797.3362|52.0| 30.78|     1.0|         1|       0|               1|               0|               0|               0|        1|         0|\n",
      "| 2395.17155|23.0|23.845|     0.0|         0|       1|               1|               0|               0|               0|        1|         0|\n",
      "|  10602.385|56.0|  40.3|     0.0|         0|       1|               0|               0|               0|               1|        1|         0|\n",
      "|  36837.467|30.0|  35.3|     0.0|         0|       1|               0|               0|               0|               1|        0|         1|\n",
      "+-----------+----+------+--------+----------+--------+----------------+----------------+----------------+----------------+---------+----------+\n",
      "only showing top 20 rows\n",
      "\n"
     ]
    }
   ],
   "source": [
    "#Colocamos hasta el final la columna LABEL\n",
    "dfDatasetOrdenado = dfDataset.select(\n",
    "    dfDataset[\"charges\"],\n",
    "    dfDataset[\"age\"],\n",
    "    dfDataset[\"bmi\"],\n",
    "    dfDataset[\"children\"],\n",
    "    dfDataset[\"sex_female\"],\n",
    "    dfDataset[\"sex_male\"],\n",
    "    dfDataset[\"region_northeast\"],\n",
    "    dfDataset[\"region_northwest\"],\n",
    "    dfDataset[\"region_southeast\"],\n",
    "    dfDataset[\"region_southwest\"],\n",
    "    dfDataset[\"smoker_no\"],\n",
    "    dfDataset[\"smoker_yes\"]\n",
    ")\n",
    "\n",
    "#Verificamos\n",
    "dfDatasetOrdenado.show()"
   ]
  },
  {
   "cell_type": "code",
   "execution_count": 16,
   "metadata": {},
   "outputs": [
    {
     "name": "stdout",
     "output_type": "stream",
     "text": [
      "Calculation started (calculation_id=d2c91826-8f82-9635-5253-8f8cec5d018d) in (session=3ac91821-7fcf-5492-13d1-7ac10056f63d). Checking calculation status...\n"
     ]
    },
    {
     "data": {
      "application/vnd.jupyter.widget-view+json": {
       "model_id": "87a7052120af4b17873b85b5280f6186",
       "version_major": 2,
       "version_minor": 0
      },
      "text/plain": [
       "Progress:   0%|          |elapsed time = 00:00s"
      ]
     },
     "metadata": {},
     "output_type": "display_data"
    },
    {
     "name": "stdout",
     "output_type": "stream",
     "text": [
      "Calculation completed.\n"
     ]
    }
   ],
   "source": [
    "#Almacenamos el dataframe que tiene el 100% de registros\n",
    "dfDatasetOrdenado.write.format(\"csv\").option(\"header\", \"false\").option(\"delimiter\", \",\").option(\"encoding\", \"ISO-8859-1\").mode(\"overwrite\").save(rutaArchivoDataset)"
   ]
  },
  {
   "cell_type": "code",
   "execution_count": 17,
   "metadata": {},
   "outputs": [
    {
     "name": "stdout",
     "output_type": "stream",
     "text": [
      "Calculation started (calculation_id=90c91827-06b3-c158-7f69-55e25a497e5c) in (session=3ac91821-7fcf-5492-13d1-7ac10056f63d). Checking calculation status...\n"
     ]
    },
    {
     "data": {
      "application/vnd.jupyter.widget-view+json": {
       "model_id": "4ec2e30a095e44519b337e817f42100b",
       "version_major": 2,
       "version_minor": 0
      },
      "text/plain": [
       "Progress:   0%|          |elapsed time = 00:00s"
      ]
     },
     "metadata": {},
     "output_type": "display_data"
    },
    {
     "name": "stdout",
     "output_type": "stream",
     "text": [
      "Calculation completed.\n"
     ]
    }
   ],
   "source": [
    "#Nos conectamos al servicio de \"S3\"\n",
    "s3 = boto3.client(\"s3\")"
   ]
  },
  {
   "cell_type": "code",
   "execution_count": 18,
   "metadata": {},
   "outputs": [
    {
     "name": "stdout",
     "output_type": "stream",
     "text": [
      "Calculation started (calculation_id=e6c91827-2abe-7ef1-cf8e-59645ebc959c) in (session=3ac91821-7fcf-5492-13d1-7ac10056f63d). Checking calculation status...\n"
     ]
    },
    {
     "data": {
      "application/vnd.jupyter.widget-view+json": {
       "model_id": "fdc63e1a15cd4f0d8167b556f1da0867",
       "version_major": 2,
       "version_minor": 0
      },
      "text/plain": [
       "Progress:   0%|          |elapsed time = 00:00s"
      ]
     },
     "metadata": {},
     "output_type": "display_data"
    },
    {
     "name": "stdout",
     "output_type": "stream",
     "text": [
      "Calculation completed.\n",
      "{'ResponseMetadata': {'RequestId': 'HREZRXNXV8YXA4CN', 'HostId': 'Ru4Tl0/qZ0fuOi4Pv55CtqcHjFWmget+Lo4e3A57ls6S1c1RZ61khosDezXB38wYE8oQ3wY9lRcB0OOm7nbM9oubt2EPjrgktqx2icVi4bM=', 'HTTPStatusCode': 204, 'HTTPHeaders': {'x-amz-id-2': 'Ru4Tl0/qZ0fuOi4Pv55CtqcHjFWmget+Lo4e3A57ls6S1c1RZ61khosDezXB38wYE8oQ3wY9lRcB0OOm7nbM9oubt2EPjrgktqx2icVi4bM=', 'x-amz-request-id': 'HREZRXNXV8YXA4CN', 'date': 'Thu, 26 Sep 2024 21:48:14 GMT', 'server': 'AmazonS3'}, 'RetryAttempts': 0}}\n",
      "\n"
     ]
    }
   ],
   "source": [
    "#Eliminamos el archivo \"_SUCCESS\" del dataset en donde se encuentran el 100% de registros\n",
    "s3.delete_object(\n",
    "    Bucket = bucket,\n",
    "    Key = f\"{rutaDeArchivo}_dataset/_SUCCESS\"\n",
    ")"
   ]
  },
  {
   "cell_type": "code",
   "execution_count": null,
   "metadata": {},
   "outputs": [],
   "source": []
  }
 ],
 "metadata": {
  "kernelspec": {
   "display_name": "Athena PySpark",
   "language": "python",
   "name": "kepler_python_kernel"
  },
  "language_info": {
   "codemirror_mode": {
    "name": "python",
    "version": 3
   },
   "file_extension": ".py",
   "mimetype": "text/x-python",
   "name": "Python_Session",
   "pygments_lexer": "python3"
  }
 },
 "nbformat": 4,
 "nbformat_minor": 1
}
