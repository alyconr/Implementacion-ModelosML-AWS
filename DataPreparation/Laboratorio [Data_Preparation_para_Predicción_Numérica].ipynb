{
 "cells": [
  {
   "cell_type": "markdown",
   "metadata": {
    "id": "HgMkjawQocsL"
   },
   "source": [
    "# 1. Entorno"
   ]
  },
  {
   "cell_type": "code",
   "execution_count": 1,
   "metadata": {
    "id": "pqYh39l9ocsO",
    "vscode": {
     "languageId": "python_session"
    }
   },
   "outputs": [],
   "source": [
    "#Creamos un Notebook en PySpark sobre Athena"
   ]
  },
  {
   "cell_type": "markdown",
   "metadata": {
    "id": "v7oxRbfeocsP"
   },
   "source": [
    "# 2. Librerias"
   ]
  },
  {
   "cell_type": "code",
   "execution_count": 1,
   "metadata": {
    "colab": {
     "referenced_widgets": [
      "eff6925d13e64a2193387e23c8de3504"
     ]
    },
    "id": "XGgo3QpFocsP",
    "outputId": "298acf92-830b-460b-ffec-27fa0340a7ef",
    "vscode": {
     "languageId": "python_session"
    }
   },
   "outputs": [
    {
     "name": "stdout",
     "output_type": "stream",
     "text": [
      "Calculation started (calculation_id=bec9001e-69cb-91ae-14af-48feae27049f) in (session=b6c9001d-944f-4442-245f-d445c43686aa). Checking calculation status...\n"
     ]
    },
    {
     "data": {
      "application/vnd.jupyter.widget-view+json": {
       "model_id": "ba75270ad33d463f950d55f8581d5122",
       "version_major": 2,
       "version_minor": 0
      },
      "text/plain": [
       "Progress:   0%|          |elapsed time = 00:00s"
      ]
     },
     "metadata": {},
     "output_type": "display_data"
    },
    {
     "name": "stdout",
     "output_type": "stream",
     "text": [
      "Calculation completed.\n"
     ]
    }
   ],
   "source": [
    "# Utilitarios para modificar el esquema de metadatos\n",
    "from pyspark.sql.types import StructType, StructField\n",
    "\n",
    "#Importamos los tipos de datos que definiremos para cada campo\n",
    "from pyspark.sql.types import StringType, IntegerType, DoubleType\n",
    "\n",
    "#Importamos la librerIa de pandas compatible con entornos de clUster de Big Data\n",
    "import pyspark.pandas as pd\n",
    "\n",
    "#Por defecto un dataframe Pandas muestra 1000 registros\n",
    "#Vamos a indicarle que solo muestre 20 para que no se sature el notebook\n",
    "pd.set_option(\"display.max_rows\", 20)\n",
    "\n",
    "#Libreria para manipular los servicios de AWS\n",
    "import boto3"
   ]
  },
  {
   "cell_type": "markdown",
   "metadata": {
    "id": "D7ob6l_OocsQ"
   },
   "source": [
    "# 3. Configuracion del archivo por leer"
   ]
  },
  {
   "cell_type": "code",
   "execution_count": 2,
   "metadata": {
    "colab": {
     "referenced_widgets": [
      "83bbf69e2ba84effb0469611f2179a17"
     ]
    },
    "id": "8Migg_VOocsQ",
    "outputId": "4e9751f6-d0b2-4a50-bebc-98e2a0412d41",
    "vscode": {
     "languageId": "python_session"
    }
   },
   "outputs": [
    {
     "name": "stdout",
     "output_type": "stream",
     "text": [
      "Calculation started (calculation_id=06c9001e-737b-9a27-b2f7-2c45ae8a4f35) in (session=b6c9001d-944f-4442-245f-d445c43686aa). Checking calculation status...\n"
     ]
    },
    {
     "data": {
      "application/vnd.jupyter.widget-view+json": {
       "model_id": "d01ac519a89c41dfa49b111ce2adcf1e",
       "version_major": 2,
       "version_minor": 0
      },
      "text/plain": [
       "Progress:   0%|          |elapsed time = 00:00s"
      ]
     },
     "metadata": {},
     "output_type": "display_data"
    },
    {
     "name": "stdout",
     "output_type": "stream",
     "text": [
      "Calculation completed.\n"
     ]
    }
   ],
   "source": [
    "#Nombre del bucket desde donde se lee el archivo\n",
    "#IMPORTANTE: REEMPLAZAR \"XXX\" POR TUS INICIALES\n",
    "bucket = \"datasetsbdaarmg2024\""
   ]
  },
  {
   "cell_type": "code",
   "execution_count": 3,
   "metadata": {
    "colab": {
     "referenced_widgets": [
      "ad20cd8587e141939dfb834f5c5ff66f"
     ]
    },
    "id": "bxBY2D8TocsR",
    "outputId": "650505a1-6496-48db-cfd4-d6048c4e98f7",
    "vscode": {
     "languageId": "python_session"
    }
   },
   "outputs": [
    {
     "name": "stdout",
     "output_type": "stream",
     "text": [
      "Calculation started (calculation_id=50c9001e-748d-0660-2bd1-22ec5dfabac2) in (session=b6c9001d-944f-4442-245f-d445c43686aa). Checking calculation status...\n"
     ]
    },
    {
     "data": {
      "application/vnd.jupyter.widget-view+json": {
       "model_id": "8f37441d4b8c479eb38b5c05754759ea",
       "version_major": 2,
       "version_minor": 0
      },
      "text/plain": [
       "Progress:   0%|          |elapsed time = 00:00s"
      ]
     },
     "metadata": {},
     "output_type": "display_data"
    },
    {
     "name": "stdout",
     "output_type": "stream",
     "text": [
      "Calculation completed.\n"
     ]
    }
   ],
   "source": [
    "#Ruta dentro del archivo dentro del bucket\n",
    "rutaDeArchivo = \"data/insurance\""
   ]
  },
  {
   "cell_type": "code",
   "execution_count": 4,
   "metadata": {
    "colab": {
     "referenced_widgets": [
      "ad876552406142a68c85a9e9cae93dde"
     ]
    },
    "id": "5HFdwzBMocsR",
    "outputId": "6e8e76b9-e00a-4dad-e4ea-296339bb0d96",
    "vscode": {
     "languageId": "python_session"
    }
   },
   "outputs": [
    {
     "name": "stdout",
     "output_type": "stream",
     "text": [
      "Calculation started (calculation_id=dac9001e-7a04-9dd0-c42f-54c5562a4d1e) in (session=b6c9001d-944f-4442-245f-d445c43686aa). Checking calculation status...\n"
     ]
    },
    {
     "data": {
      "application/vnd.jupyter.widget-view+json": {
       "model_id": "75319a7d56bf4104a87b52af488be10b",
       "version_major": 2,
       "version_minor": 0
      },
      "text/plain": [
       "Progress:   0%|          |elapsed time = 00:00s"
      ]
     },
     "metadata": {},
     "output_type": "display_data"
    },
    {
     "name": "stdout",
     "output_type": "stream",
     "text": [
      "Calculation completed.\n"
     ]
    }
   ],
   "source": [
    "#Definicion del esquema de metadatos\n",
    "schema = StructType(\n",
    "    [\n",
    "        StructField(\"age\", DoubleType(), True),\n",
    "        StructField(\"sex\", StringType(), True),\n",
    "        StructField(\"bmi\", DoubleType(), True),\n",
    "        StructField(\"children\", DoubleType(), True),\n",
    "        StructField(\"smoker\", StringType(), True),\n",
    "        StructField(\"region\", StringType(), True),\n",
    "        StructField(\"charges\", DoubleType(), True)\n",
    "    ]\n",
    ")"
   ]
  },
  {
   "cell_type": "code",
   "execution_count": 5,
   "metadata": {
    "colab": {
     "referenced_widgets": [
      "52bd8361c3a44a7a93ea646a49fee9e1"
     ]
    },
    "id": "85oYnPJrocsR",
    "outputId": "af42a00f-70f2-4eb9-e122-4f9a0076e99c",
    "vscode": {
     "languageId": "python_session"
    }
   },
   "outputs": [
    {
     "name": "stdout",
     "output_type": "stream",
     "text": [
      "Calculation started (calculation_id=b0c9001e-7b30-fc7a-755f-07864c1fbc94) in (session=b6c9001d-944f-4442-245f-d445c43686aa). Checking calculation status...\n"
     ]
    },
    {
     "data": {
      "application/vnd.jupyter.widget-view+json": {
       "model_id": "dd1776e1346a4bc796d70c4eefb89d0d",
       "version_major": 2,
       "version_minor": 0
      },
      "text/plain": [
       "Progress:   0%|          |elapsed time = 00:00s"
      ]
     },
     "metadata": {},
     "output_type": "display_data"
    },
    {
     "name": "stdout",
     "output_type": "stream",
     "text": [
      "Calculation completed.\n"
     ]
    }
   ],
   "source": [
    "#Definimos las variables categoricas\n",
    "categorias = [\n",
    "  \"sex\",\n",
    "  \"region\",\n",
    "  \"smoker\"\n",
    "]"
   ]
  },
  {
   "cell_type": "code",
   "execution_count": 6,
   "metadata": {
    "colab": {
     "referenced_widgets": [
      "17ef22bddd9b4503816d5d9d016c9cb4"
     ]
    },
    "id": "gqx4_jHHocsS",
    "outputId": "916a0eaa-1b96-48e3-e0d9-39bc35dc0dc0",
    "vscode": {
     "languageId": "python_session"
    }
   },
   "outputs": [
    {
     "name": "stdout",
     "output_type": "stream",
     "text": [
      "Calculation started (calculation_id=aec9001e-7c52-f9df-17f6-32ace71e1e4a) in (session=b6c9001d-944f-4442-245f-d445c43686aa). Checking calculation status...\n"
     ]
    },
    {
     "data": {
      "application/vnd.jupyter.widget-view+json": {
       "model_id": "27cd7f9e91f04f52ba0aa32420e8021e",
       "version_major": 2,
       "version_minor": 0
      },
      "text/plain": [
       "Progress:   0%|          |elapsed time = 00:00s"
      ]
     },
     "metadata": {},
     "output_type": "display_data"
    },
    {
     "name": "stdout",
     "output_type": "stream",
     "text": [
      "Calculation completed.\n"
     ]
    }
   ],
   "source": [
    "#Campo label\n",
    "label = \"charges\""
   ]
  },
  {
   "cell_type": "markdown",
   "metadata": {
    "id": "RwgT881LocsS"
   },
   "source": [
    "# 4. Rutas del dataset"
   ]
  },
  {
   "cell_type": "code",
   "execution_count": 7,
   "metadata": {
    "colab": {
     "referenced_widgets": [
      "a394cf044c8e4ef2ae6a11229ffb2104"
     ]
    },
    "id": "7jPGtzR0ocsS",
    "outputId": "0d87b7da-a663-42c2-a1dc-83d4066a89a3",
    "vscode": {
     "languageId": "python_session"
    }
   },
   "outputs": [
    {
     "name": "stdout",
     "output_type": "stream",
     "text": [
      "Calculation started (calculation_id=32c9001e-817c-2c9f-ea44-cd49c84c0d64) in (session=b6c9001d-944f-4442-245f-d445c43686aa). Checking calculation status...\n"
     ]
    },
    {
     "data": {
      "application/vnd.jupyter.widget-view+json": {
       "model_id": "2e4918ac9af241bfbac3f2e96d0c6a7e",
       "version_major": 2,
       "version_minor": 0
      },
      "text/plain": [
       "Progress:   0%|          |elapsed time = 00:00s"
      ]
     },
     "metadata": {},
     "output_type": "display_data"
    },
    {
     "name": "stdout",
     "output_type": "stream",
     "text": [
      "Calculation completed.\n"
     ]
    }
   ],
   "source": [
    "#Definimos la ruta desde donde se lee el archivo de datos que se preparara\n",
    "#En Python 3, podemos anteponer \"f\" en una cadena para reemplazar valores\n",
    "rutaArchivoRaw = f\"s3://{bucket}/{rutaDeArchivo}/\""
   ]
  },
  {
   "cell_type": "code",
   "execution_count": 8,
   "metadata": {
    "colab": {
     "referenced_widgets": [
      "29b6a17fe17443ea8259facab11ef0ff"
     ]
    },
    "id": "PV8ogr6zocsS",
    "outputId": "9ea39be6-b4d8-4e6e-8b1c-113d4bcaadfc",
    "vscode": {
     "languageId": "python_session"
    }
   },
   "outputs": [
    {
     "name": "stdout",
     "output_type": "stream",
     "text": [
      "Calculation started (calculation_id=1cc9001e-8295-c172-b403-4b12b0e9a3d3) in (session=b6c9001d-944f-4442-245f-d445c43686aa). Checking calculation status...\n"
     ]
    },
    {
     "data": {
      "application/vnd.jupyter.widget-view+json": {
       "model_id": "645a2e5deaa146e6941979ee20d33428",
       "version_major": 2,
       "version_minor": 0
      },
      "text/plain": [
       "Progress:   0%|          |elapsed time = 00:00s"
      ]
     },
     "metadata": {},
     "output_type": "display_data"
    },
    {
     "name": "stdout",
     "output_type": "stream",
     "text": [
      "Calculation completed.\n",
      "s3://datasetsbdaarmg2024/data/insurance/\n",
      "\n"
     ]
    }
   ],
   "source": [
    "#Verificamos\n",
    "print(rutaArchivoRaw)"
   ]
  },
  {
   "cell_type": "code",
   "execution_count": 9,
   "metadata": {
    "colab": {
     "referenced_widgets": [
      "d9e2bfe7be93488b884df65ccfbf0fc7"
     ]
    },
    "id": "Tr9DyJsGocsT",
    "outputId": "d32aaff3-ef94-43f1-edd5-c55084fe1a9f",
    "vscode": {
     "languageId": "python_session"
    }
   },
   "outputs": [
    {
     "name": "stdout",
     "output_type": "stream",
     "text": [
      "Calculation started (calculation_id=dcc9001e-879a-30dd-996a-398e80a09424) in (session=b6c9001d-944f-4442-245f-d445c43686aa). Checking calculation status...\n"
     ]
    },
    {
     "data": {
      "application/vnd.jupyter.widget-view+json": {
       "model_id": "c5fb53912de946a88d74b329ca215353",
       "version_major": 2,
       "version_minor": 0
      },
      "text/plain": [
       "Progress:   0%|          |elapsed time = 00:00s"
      ]
     },
     "metadata": {},
     "output_type": "display_data"
    },
    {
     "name": "stdout",
     "output_type": "stream",
     "text": [
      "Calculation completed.\n",
      "s3://datasetsbdaarmg2024/data/insurance_dataset/\n",
      "\n"
     ]
    }
   ],
   "source": [
    "#Definimos la ruta en donde se almacenara el 100% de los registros del dataset preparado\n",
    "rutaArchivoDataset = f\"s3://{bucket}/{rutaDeArchivo}_dataset/\"\n",
    "\n",
    "#Verificamos\n",
    "print(rutaArchivoDataset)"
   ]
  },
  {
   "cell_type": "code",
   "execution_count": 10,
   "metadata": {
    "colab": {
     "referenced_widgets": [
      "ef34e9c0d4a14a79846db6b698aaceb6"
     ]
    },
    "id": "dXsf7gwHocsT",
    "outputId": "60ab2b44-b1a7-413d-a35e-efd53d8f116c",
    "vscode": {
     "languageId": "python_session"
    }
   },
   "outputs": [
    {
     "name": "stdout",
     "output_type": "stream",
     "text": [
      "Calculation started (calculation_id=68c9001e-8c9d-264f-11db-3ea88938ff42) in (session=b6c9001d-944f-4442-245f-d445c43686aa). Checking calculation status...\n"
     ]
    },
    {
     "data": {
      "application/vnd.jupyter.widget-view+json": {
       "model_id": "2ec187e1c2f24d55a3bdda191bc2f280",
       "version_major": 2,
       "version_minor": 0
      },
      "text/plain": [
       "Progress:   0%|          |elapsed time = 00:00s"
      ]
     },
     "metadata": {},
     "output_type": "display_data"
    },
    {
     "name": "stdout",
     "output_type": "stream",
     "text": [
      "Calculation completed.\n",
      "s3://datasetsbdaarmg2024/data/insurance_train/\n",
      "\n"
     ]
    }
   ],
   "source": [
    "#Definimos la ruta en donde se almacenara los registros del dataset de entrenamiento\n",
    "rutaArchivoDatasetTrain = f\"s3://{bucket}/{rutaDeArchivo}_train/\"\n",
    "\n",
    "#Verificamos\n",
    "print(rutaArchivoDatasetTrain)"
   ]
  },
  {
   "cell_type": "code",
   "execution_count": 11,
   "metadata": {
    "colab": {
     "referenced_widgets": [
      "32445467d3194374a403eff4ed08c4e4"
     ]
    },
    "id": "ltjW17L5ocsT",
    "outputId": "c39f0109-04f4-4aef-a84b-fc4d0ba80a5e",
    "vscode": {
     "languageId": "python_session"
    }
   },
   "outputs": [
    {
     "name": "stdout",
     "output_type": "stream",
     "text": [
      "Calculation started (calculation_id=6ac9001e-8e30-51eb-bd22-bd825ca08b3d) in (session=b6c9001d-944f-4442-245f-d445c43686aa). Checking calculation status...\n"
     ]
    },
    {
     "data": {
      "application/vnd.jupyter.widget-view+json": {
       "model_id": "7dec27ff03fd4570b649a2c4d225eaa4",
       "version_major": 2,
       "version_minor": 0
      },
      "text/plain": [
       "Progress:   0%|          |elapsed time = 00:00s"
      ]
     },
     "metadata": {},
     "output_type": "display_data"
    },
    {
     "name": "stdout",
     "output_type": "stream",
     "text": [
      "Calculation completed.\n",
      "s3://datasetsbdaarmg2024/data/insurance_test/\n",
      "\n"
     ]
    }
   ],
   "source": [
    "#Definimos la ruta en donde se almacenara los registros del dataset de validacion\n",
    "rutaArchivoDatasetTest = f\"s3://{bucket}/{rutaDeArchivo}_test/\"\n",
    "\n",
    "#Verificamos\n",
    "print(rutaArchivoDatasetTest)"
   ]
  },
  {
   "cell_type": "markdown",
   "metadata": {
    "id": "HjsVUFoHocsT"
   },
   "source": [
    "# 5. Lectura de datos"
   ]
  },
  {
   "cell_type": "code",
   "execution_count": 12,
   "metadata": {
    "colab": {
     "referenced_widgets": [
      "6e9b379261bd4f2399c4980f7584d568"
     ]
    },
    "id": "_nVlQL6-ocsT",
    "outputId": "99c67108-3d25-4d98-8498-1dbf7b7d009b",
    "vscode": {
     "languageId": "python_session"
    }
   },
   "outputs": [
    {
     "name": "stdout",
     "output_type": "stream",
     "text": [
      "Calculation started (calculation_id=ecc9001e-936d-ff17-c183-82504b6bc5ff) in (session=b6c9001d-944f-4442-245f-d445c43686aa). Checking calculation status...\n"
     ]
    },
    {
     "data": {
      "application/vnd.jupyter.widget-view+json": {
       "model_id": "a8035b2e2b3b4a71b1ca6a25412733d9",
       "version_major": 2,
       "version_minor": 0
      },
      "text/plain": [
       "Progress:   0%|          |elapsed time = 00:00s"
      ]
     },
     "metadata": {},
     "output_type": "display_data"
    },
    {
     "name": "stdout",
     "output_type": "stream",
     "text": [
      "Calculation completed.\n",
      "root\n",
      " |-- age: double (nullable = true)\n",
      " |-- sex: string (nullable = true)\n",
      " |-- bmi: double (nullable = true)\n",
      " |-- children: double (nullable = true)\n",
      " |-- smoker: string (nullable = true)\n",
      " |-- region: string (nullable = true)\n",
      " |-- charges: double (nullable = true)\n",
      "\n",
      "+----+------+------+--------+------+---------+-----------+\n",
      "| age|   sex|   bmi|children|smoker|   region|    charges|\n",
      "+----+------+------+--------+------+---------+-----------+\n",
      "|19.0|female|  27.9|     0.0|   yes|southwest|  16884.924|\n",
      "|18.0|  male| 33.77|     1.0|    no|southeast|  1725.5523|\n",
      "|28.0|  male|  33.0|     3.0|    no|southeast|   4449.462|\n",
      "|33.0|  male|22.705|     0.0|    no|northwest|21984.47061|\n",
      "|32.0|  male| 28.88|     0.0|    no|northwest|  3866.8552|\n",
      "|31.0|female| 25.74|     0.0|    no|southeast|  3756.6216|\n",
      "|46.0|female| 33.44|     1.0|    no|southeast|  8240.5896|\n",
      "|37.0|female| 27.74|     3.0|    no|northwest|  7281.5056|\n",
      "|37.0|  male| 29.83|     2.0|    no|northeast|  6406.4107|\n",
      "|60.0|female| 25.84|     0.0|    no|northwest|28923.13692|\n",
      "|25.0|  male| 26.22|     0.0|    no|northeast|  2721.3208|\n",
      "|62.0|female| 26.29|     0.0|   yes|southeast| 27808.7251|\n",
      "|23.0|  male|  34.4|     0.0|    no|southwest|   1826.843|\n",
      "|56.0|female| 39.82|     0.0|    no|southeast| 11090.7178|\n",
      "|27.0|  male| 42.13|     0.0|   yes|southeast| 39611.7577|\n",
      "|19.0|  male|  24.6|     1.0|    no|southwest|   1837.237|\n",
      "|52.0|female| 30.78|     1.0|    no|northeast| 10797.3362|\n",
      "|23.0|  male|23.845|     0.0|    no|northeast| 2395.17155|\n",
      "|56.0|  male|  40.3|     0.0|    no|southwest|  10602.385|\n",
      "|30.0|  male|  35.3|     0.0|   yes|southwest|  36837.467|\n",
      "+----+------+------+--------+------+---------+-----------+\n",
      "only showing top 20 rows\n",
      "\n"
     ]
    }
   ],
   "source": [
    "#Leemos los datos\n",
    "dfRaw = spark.read.format(\"csv\").option(\"header\", \"true\").option(\"delimiter\", \",\").option(\"encoding\", \"ISO-8859-1\").schema(schema).load(rutaArchivoRaw)\n",
    "\n",
    "#Vemos el esquema de metadatos\n",
    "dfRaw.printSchema()\n",
    "\n",
    "#Verificamos\n",
    "dfRaw.show()"
   ]
  },
  {
   "cell_type": "markdown",
   "metadata": {
    "id": "AGdWaTMfocsU"
   },
   "source": [
    "# 6. Conversion de Dataframe Spark a Pandas"
   ]
  },
  {
   "cell_type": "code",
   "execution_count": 13,
   "metadata": {
    "colab": {
     "referenced_widgets": [
      "27f3f97a153d48bcb2c7904cbc3ba6c4"
     ]
    },
    "id": "S6G1heizocsU",
    "outputId": "b03c00de-6799-4ac1-e885-b1704ec778fa",
    "vscode": {
     "languageId": "python_session"
    }
   },
   "outputs": [
    {
     "name": "stdout",
     "output_type": "stream",
     "text": [
      "Calculation started (calculation_id=d2c9001e-a4c5-21a5-1aeb-fe709a5d3877) in (session=b6c9001d-944f-4442-245f-d445c43686aa). Checking calculation status...\n"
     ]
    },
    {
     "data": {
      "application/vnd.jupyter.widget-view+json": {
       "model_id": "866ba20fdae34305bab74c9a82a2ecfd",
       "version_major": 2,
       "version_minor": 0
      },
      "text/plain": [
       "Progress:   0%|          |elapsed time = 00:00s"
      ]
     },
     "metadata": {},
     "output_type": "display_data"
    },
    {
     "name": "stdout",
     "output_type": "stream",
     "text": [
      "Calculation completed.\n",
      "     age     sex     bmi  children smoker     region      charges\n",
      "0   19.0  female  27.900       0.0    yes  southwest  16884.92400\n",
      "1   18.0    male  33.770       1.0     no  southeast   1725.55230\n",
      "2   28.0    male  33.000       3.0     no  southeast   4449.46200\n",
      "3   33.0    male  22.705       0.0     no  northwest  21984.47061\n",
      "4   32.0    male  28.880       0.0     no  northwest   3866.85520\n",
      "5   31.0  female  25.740       0.0     no  southeast   3756.62160\n",
      "6   46.0  female  33.440       1.0     no  southeast   8240.58960\n",
      "7   37.0  female  27.740       3.0     no  northwest   7281.50560\n",
      "8   37.0    male  29.830       2.0     no  northeast   6406.41070\n",
      "9   60.0  female  25.840       0.0     no  northwest  28923.13692\n",
      "10  25.0    male  26.220       0.0     no  northeast   2721.32080\n",
      "11  62.0  female  26.290       0.0    yes  southeast  27808.72510\n",
      "12  23.0    male  34.400       0.0     no  southwest   1826.84300\n",
      "13  56.0  female  39.820       0.0     no  southeast  11090.71780\n",
      "14  27.0    male  42.130       0.0    yes  southeast  39611.75770\n",
      "15  19.0    male  24.600       1.0     no  southwest   1837.23700\n",
      "16  52.0  female  30.780       1.0     no  northeast  10797.33620\n",
      "17  23.0    male  23.845       0.0     no  northeast   2395.17155\n",
      "18  56.0    male  40.300       0.0     no  southwest  10602.38500\n",
      "19  30.0    male  35.300       0.0    yes  southwest  36837.46700\n",
      "\n",
      "[Showing only the first 20 rows x 7 columns]\n",
      "\n"
     ]
    }
   ],
   "source": [
    "#Convertimos el dataframe SPARK a un dataframe PANDAS\n",
    "dfpRaw = pd.from_pandas(dfRaw.toPandas())\n",
    "\n",
    "#Verificamos\n",
    "dfpRaw"
   ]
  },
  {
   "cell_type": "markdown",
   "metadata": {
    "id": "GC-4-EKjocsV"
   },
   "source": [
    "# 7. Creacion de columnas Dummy"
   ]
  },
  {
   "cell_type": "code",
   "execution_count": 14,
   "metadata": {
    "colab": {
     "referenced_widgets": [
      "a479a6670f52433ebe2ce95e88d8e1b7"
     ]
    },
    "id": "Pi-X1FqxocsV",
    "outputId": "9b6e5042-70c8-4dc6-8342-d29696cf0a40",
    "vscode": {
     "languageId": "python_session"
    }
   },
   "outputs": [
    {
     "name": "stdout",
     "output_type": "stream",
     "text": [
      "Calculation started (calculation_id=34c9001e-a9da-5037-93a6-4a25b2ab68ae) in (session=b6c9001d-944f-4442-245f-d445c43686aa). Checking calculation status...\n"
     ]
    },
    {
     "data": {
      "application/vnd.jupyter.widget-view+json": {
       "model_id": "dde4d7c441344f15b08b261e9d38fcd4",
       "version_major": 2,
       "version_minor": 0
      },
      "text/plain": [
       "Progress:   0%|          |elapsed time = 00:00s"
      ]
     },
     "metadata": {},
     "output_type": "display_data"
    },
    {
     "name": "stdout",
     "output_type": "stream",
     "text": [
      "Calculation completed.\n",
      "     age     bmi  children      charges  sex_female  sex_male  region_northeast  region_northwest  region_southeast  region_southwest  smoker_no  smoker_yes\n",
      "0   19.0  27.900       0.0  16884.92400           1         0                 0                 0                 0                 1          0           1\n",
      "1   18.0  33.770       1.0   1725.55230           0         1                 0                 0                 1                 0          1           0\n",
      "2   28.0  33.000       3.0   4449.46200           0         1                 0                 0                 1                 0          1           0\n",
      "3   33.0  22.705       0.0  21984.47061           0         1                 0                 1                 0                 0          1           0\n",
      "4   32.0  28.880       0.0   3866.85520           0         1                 0                 1                 0                 0          1           0\n",
      "5   31.0  25.740       0.0   3756.62160           1         0                 0                 0                 1                 0          1           0\n",
      "6   46.0  33.440       1.0   8240.58960           1         0                 0                 0                 1                 0          1           0\n",
      "7   37.0  27.740       3.0   7281.50560           1         0                 0                 1                 0                 0          1           0\n",
      "8   37.0  29.830       2.0   6406.41070           0         1                 1                 0                 0                 0          1           0\n",
      "9   60.0  25.840       0.0  28923.13692           1         0                 0                 1                 0                 0          1           0\n",
      "10  25.0  26.220       0.0   2721.32080           0         1                 1                 0                 0                 0          1           0\n",
      "11  62.0  26.290       0.0  27808.72510           1         0                 0                 0                 1                 0          0           1\n",
      "12  23.0  34.400       0.0   1826.84300           0         1                 0                 0                 0                 1          1           0\n",
      "13  56.0  39.820       0.0  11090.71780           1         0                 0                 0                 1                 0          1           0\n",
      "14  27.0  42.130       0.0  39611.75770           0         1                 0                 0                 1                 0          0           1\n",
      "15  19.0  24.600       1.0   1837.23700           0         1                 0                 0                 0                 1          1           0\n",
      "16  52.0  30.780       1.0  10797.33620           1         0                 1                 0                 0                 0          1           0\n",
      "17  23.0  23.845       0.0   2395.17155           0         1                 1                 0                 0                 0          1           0\n",
      "18  56.0  40.300       0.0  10602.38500           0         1                 0                 0                 0                 1          1           0\n",
      "19  30.0  35.300       0.0  36837.46700           0         1                 0                 0                 0                 1          0           1\n",
      "\n",
      "[Showing only the first 20 rows x 12 columns]\n",
      "\n"
     ]
    }
   ],
   "source": [
    "#Conversion de variables categoricas a variables numericas en columnas dummy\n",
    "dfpDataset = pd.get_dummies(dfpRaw, columns = categorias)\n",
    "\n",
    "#Verificamos\n",
    "dfpDataset"
   ]
  },
  {
   "cell_type": "markdown",
   "metadata": {
    "id": "-RjhwZgwocsV"
   },
   "source": [
    "# 8. Conversion de Dataframe Pandas a Spark"
   ]
  },
  {
   "cell_type": "code",
   "execution_count": 15,
   "metadata": {
    "colab": {
     "referenced_widgets": [
      "d5afc4dd42164186945d08bef02e5465"
     ]
    },
    "id": "V8QMLaqSocsV",
    "outputId": "ea481112-e7d8-4142-ea95-0300616674ec",
    "vscode": {
     "languageId": "python_session"
    }
   },
   "outputs": [
    {
     "name": "stdout",
     "output_type": "stream",
     "text": [
      "Calculation started (calculation_id=c8c9001e-af09-8912-0b83-10c08a0a4d2a) in (session=b6c9001d-944f-4442-245f-d445c43686aa). Checking calculation status...\n"
     ]
    },
    {
     "data": {
      "application/vnd.jupyter.widget-view+json": {
       "model_id": "756455ebe2504859a118fe2be159e2d7",
       "version_major": 2,
       "version_minor": 0
      },
      "text/plain": [
       "Progress:   0%|          |elapsed time = 00:00s"
      ]
     },
     "metadata": {},
     "output_type": "display_data"
    },
    {
     "name": "stdout",
     "output_type": "stream",
     "text": [
      "Calculation completed.\n",
      "+----+------+--------+-----------+----------+--------+----------------+----------------+----------------+----------------+---------+----------+\n",
      "| age|   bmi|children|    charges|sex_female|sex_male|region_northeast|region_northwest|region_southeast|region_southwest|smoker_no|smoker_yes|\n",
      "+----+------+--------+-----------+----------+--------+----------------+----------------+----------------+----------------+---------+----------+\n",
      "|19.0|  27.9|     0.0|  16884.924|         1|       0|               0|               0|               0|               1|        0|         1|\n",
      "|18.0| 33.77|     1.0|  1725.5523|         0|       1|               0|               0|               1|               0|        1|         0|\n",
      "|28.0|  33.0|     3.0|   4449.462|         0|       1|               0|               0|               1|               0|        1|         0|\n",
      "|33.0|22.705|     0.0|21984.47061|         0|       1|               0|               1|               0|               0|        1|         0|\n",
      "|32.0| 28.88|     0.0|  3866.8552|         0|       1|               0|               1|               0|               0|        1|         0|\n",
      "|31.0| 25.74|     0.0|  3756.6216|         1|       0|               0|               0|               1|               0|        1|         0|\n",
      "|46.0| 33.44|     1.0|  8240.5896|         1|       0|               0|               0|               1|               0|        1|         0|\n",
      "|37.0| 27.74|     3.0|  7281.5056|         1|       0|               0|               1|               0|               0|        1|         0|\n",
      "|37.0| 29.83|     2.0|  6406.4107|         0|       1|               1|               0|               0|               0|        1|         0|\n",
      "|60.0| 25.84|     0.0|28923.13692|         1|       0|               0|               1|               0|               0|        1|         0|\n",
      "|25.0| 26.22|     0.0|  2721.3208|         0|       1|               1|               0|               0|               0|        1|         0|\n",
      "|62.0| 26.29|     0.0| 27808.7251|         1|       0|               0|               0|               1|               0|        0|         1|\n",
      "|23.0|  34.4|     0.0|   1826.843|         0|       1|               0|               0|               0|               1|        1|         0|\n",
      "|56.0| 39.82|     0.0| 11090.7178|         1|       0|               0|               0|               1|               0|        1|         0|\n",
      "|27.0| 42.13|     0.0| 39611.7577|         0|       1|               0|               0|               1|               0|        0|         1|\n",
      "|19.0|  24.6|     1.0|   1837.237|         0|       1|               0|               0|               0|               1|        1|         0|\n",
      "|52.0| 30.78|     1.0| 10797.3362|         1|       0|               1|               0|               0|               0|        1|         0|\n",
      "|23.0|23.845|     0.0| 2395.17155|         0|       1|               1|               0|               0|               0|        1|         0|\n",
      "|56.0|  40.3|     0.0|  10602.385|         0|       1|               0|               0|               0|               1|        1|         0|\n",
      "|30.0|  35.3|     0.0|  36837.467|         0|       1|               0|               0|               0|               1|        0|         1|\n",
      "+----+------+--------+-----------+----------+--------+----------------+----------------+----------------+----------------+---------+----------+\n",
      "only showing top 20 rows\n",
      "\n"
     ]
    }
   ],
   "source": [
    "#Convertimos el dataframe PANDAS a un dataframe SPARK\n",
    "dfDataset = dfpDataset.to_spark()\n",
    "\n",
    "#Verificamos\n",
    "dfDataset.show()"
   ]
  },
  {
   "cell_type": "markdown",
   "metadata": {
    "id": "h0r4i1F3ocsV"
   },
   "source": [
    "# 9. Orden de Columnas"
   ]
  },
  {
   "cell_type": "code",
   "execution_count": 16,
   "metadata": {
    "colab": {
     "referenced_widgets": [
      "6b7e0e8b3ae9404da1c9457eff9dbb4d"
     ]
    },
    "id": "Q2x2SiTdocsV",
    "outputId": "465273c4-9b23-487c-a3ac-fb1ca2ff9bdf",
    "vscode": {
     "languageId": "python_session"
    }
   },
   "outputs": [
    {
     "name": "stdout",
     "output_type": "stream",
     "text": [
      "Calculation started (calculation_id=28c9001e-b438-9fd0-1e7b-ff7394196be7) in (session=b6c9001d-944f-4442-245f-d445c43686aa). Checking calculation status...\n"
     ]
    },
    {
     "data": {
      "application/vnd.jupyter.widget-view+json": {
       "model_id": "8ee3b04d59d54d4ba91cc2691b7d59cb",
       "version_major": 2,
       "version_minor": 0
      },
      "text/plain": [
       "Progress:   0%|          |elapsed time = 00:00s"
      ]
     },
     "metadata": {},
     "output_type": "display_data"
    },
    {
     "name": "stdout",
     "output_type": "stream",
     "text": [
      "Calculation completed.\n",
      "+-----------+----+------+--------+----------+--------+----------------+----------------+----------------+----------------+---------+----------+\n",
      "|    charges| age|   bmi|children|sex_female|sex_male|region_northeast|region_northwest|region_southeast|region_southwest|smoker_no|smoker_yes|\n",
      "+-----------+----+------+--------+----------+--------+----------------+----------------+----------------+----------------+---------+----------+\n",
      "|  16884.924|19.0|  27.9|     0.0|         1|       0|               0|               0|               0|               1|        0|         1|\n",
      "|  1725.5523|18.0| 33.77|     1.0|         0|       1|               0|               0|               1|               0|        1|         0|\n",
      "|   4449.462|28.0|  33.0|     3.0|         0|       1|               0|               0|               1|               0|        1|         0|\n",
      "|21984.47061|33.0|22.705|     0.0|         0|       1|               0|               1|               0|               0|        1|         0|\n",
      "|  3866.8552|32.0| 28.88|     0.0|         0|       1|               0|               1|               0|               0|        1|         0|\n",
      "|  3756.6216|31.0| 25.74|     0.0|         1|       0|               0|               0|               1|               0|        1|         0|\n",
      "|  8240.5896|46.0| 33.44|     1.0|         1|       0|               0|               0|               1|               0|        1|         0|\n",
      "|  7281.5056|37.0| 27.74|     3.0|         1|       0|               0|               1|               0|               0|        1|         0|\n",
      "|  6406.4107|37.0| 29.83|     2.0|         0|       1|               1|               0|               0|               0|        1|         0|\n",
      "|28923.13692|60.0| 25.84|     0.0|         1|       0|               0|               1|               0|               0|        1|         0|\n",
      "|  2721.3208|25.0| 26.22|     0.0|         0|       1|               1|               0|               0|               0|        1|         0|\n",
      "| 27808.7251|62.0| 26.29|     0.0|         1|       0|               0|               0|               1|               0|        0|         1|\n",
      "|   1826.843|23.0|  34.4|     0.0|         0|       1|               0|               0|               0|               1|        1|         0|\n",
      "| 11090.7178|56.0| 39.82|     0.0|         1|       0|               0|               0|               1|               0|        1|         0|\n",
      "| 39611.7577|27.0| 42.13|     0.0|         0|       1|               0|               0|               1|               0|        0|         1|\n",
      "|   1837.237|19.0|  24.6|     1.0|         0|       1|               0|               0|               0|               1|        1|         0|\n",
      "| 10797.3362|52.0| 30.78|     1.0|         1|       0|               1|               0|               0|               0|        1|         0|\n",
      "| 2395.17155|23.0|23.845|     0.0|         0|       1|               1|               0|               0|               0|        1|         0|\n",
      "|  10602.385|56.0|  40.3|     0.0|         0|       1|               0|               0|               0|               1|        1|         0|\n",
      "|  36837.467|30.0|  35.3|     0.0|         0|       1|               0|               0|               0|               1|        0|         1|\n",
      "+-----------+----+------+--------+----------+--------+----------------+----------------+----------------+----------------+---------+----------+\n",
      "only showing top 20 rows\n",
      "\n"
     ]
    }
   ],
   "source": [
    "#Colocamos hasta el final la columna LABEL\n",
    "dfDatasetOrdenado = dfDataset.select(\n",
    "    dfDataset[\"charges\"],\n",
    "    dfDataset[\"age\"],\n",
    "    dfDataset[\"bmi\"],\n",
    "    dfDataset[\"children\"],\n",
    "    dfDataset[\"sex_female\"],\n",
    "    dfDataset[\"sex_male\"],\n",
    "    dfDataset[\"region_northeast\"],\n",
    "    dfDataset[\"region_northwest\"],\n",
    "    dfDataset[\"region_southeast\"],\n",
    "    dfDataset[\"region_southwest\"],\n",
    "    dfDataset[\"smoker_no\"],\n",
    "    dfDataset[\"smoker_yes\"]\n",
    ")\n",
    "\n",
    "#Verificamos\n",
    "dfDatasetOrdenado.show()"
   ]
  },
  {
   "cell_type": "markdown",
   "metadata": {
    "id": "ylxUqtifocsW"
   },
   "source": [
    "# 10. Division de datos para entrenar y validar"
   ]
  },
  {
   "cell_type": "code",
   "execution_count": 17,
   "metadata": {
    "colab": {
     "referenced_widgets": [
      "cfd1a6e8d3b547b181a73d1a4d5631f9"
     ]
    },
    "id": "t1ztOrV-ocsW",
    "outputId": "4ab7f14c-8035-4ac7-bc45-d91facdb487a",
    "vscode": {
     "languageId": "python_session"
    }
   },
   "outputs": [
    {
     "name": "stdout",
     "output_type": "stream",
     "text": [
      "Calculation started (calculation_id=1ec9001e-c174-3344-21eb-0425bf022c9f) in (session=b6c9001d-944f-4442-245f-d445c43686aa). Checking calculation status...\n"
     ]
    },
    {
     "data": {
      "application/vnd.jupyter.widget-view+json": {
       "model_id": "d791e82805ae44c7a885a7c40343ab25",
       "version_major": 2,
       "version_minor": 0
      },
      "text/plain": [
       "Progress:   0%|          |elapsed time = 00:00s"
      ]
     },
     "metadata": {},
     "output_type": "display_data"
    },
    {
     "name": "stdout",
     "output_type": "stream",
     "text": [
      "Calculation completed.\n"
     ]
    }
   ],
   "source": [
    "#Division en datos para entrenar y validar\n",
    "dfTrain, dfTest = dfDatasetOrdenado.randomSplit([0.8, 0.2])"
   ]
  },
  {
   "cell_type": "code",
   "execution_count": 18,
   "metadata": {
    "colab": {
     "referenced_widgets": [
      "4b44b8a7b80b491e915ba57a7e1727a1"
     ]
    },
    "id": "GTGyvCURocsW",
    "outputId": "71500ae1-ac99-46fe-91ae-882282450d71",
    "vscode": {
     "languageId": "python_session"
    }
   },
   "outputs": [
    {
     "name": "stdout",
     "output_type": "stream",
     "text": [
      "Calculation started (calculation_id=00c9001e-c688-1d7e-73fc-7f0b8dcd94c6) in (session=b6c9001d-944f-4442-245f-d445c43686aa). Checking calculation status...\n"
     ]
    },
    {
     "data": {
      "application/vnd.jupyter.widget-view+json": {
       "model_id": "c967efb417c94767bd8a58cfc3fa117b",
       "version_major": 2,
       "version_minor": 0
      },
      "text/plain": [
       "Progress:   0%|          |elapsed time = 00:00s"
      ]
     },
     "metadata": {},
     "output_type": "display_data"
    },
    {
     "name": "stdout",
     "output_type": "stream",
     "text": [
      "Calculation completed.\n",
      "1082\n",
      "\n"
     ]
    }
   ],
   "source": [
    "#Verificamos la cantidad de registros para entrenar\n",
    "cantidadDeRegistrosTrain = dfTrain.count()\n",
    "\n",
    "#Verificamos\n",
    "print(cantidadDeRegistrosTrain)"
   ]
  },
  {
   "cell_type": "code",
   "execution_count": 19,
   "metadata": {
    "colab": {
     "referenced_widgets": [
      "8d1b84962b6448989ccb73598ee7dbc6"
     ]
    },
    "id": "DPkJ3-k0ocsW",
    "outputId": "4603e5ec-d7ee-47a5-92c4-2d1c924f01e8",
    "vscode": {
     "languageId": "python_session"
    }
   },
   "outputs": [
    {
     "name": "stdout",
     "output_type": "stream",
     "text": [
      "Calculation started (calculation_id=a8c9001e-d39d-25d0-5b08-020b1935b067) in (session=b6c9001d-944f-4442-245f-d445c43686aa). Checking calculation status...\n"
     ]
    },
    {
     "data": {
      "application/vnd.jupyter.widget-view+json": {
       "model_id": "c2ef51e49ab0494da550ae41a5488232",
       "version_major": 2,
       "version_minor": 0
      },
      "text/plain": [
       "Progress:   0%|          |elapsed time = 00:00s"
      ]
     },
     "metadata": {},
     "output_type": "display_data"
    },
    {
     "name": "stdout",
     "output_type": "stream",
     "text": [
      "Calculation completed.\n",
      "256\n",
      "\n"
     ]
    }
   ],
   "source": [
    "#Verificamos la cantidad de registros para validar\n",
    "cantidadDeRegistrosTest = dfTest.count()\n",
    "\n",
    "#Verificamos\n",
    "print(cantidadDeRegistrosTest)"
   ]
  },
  {
   "cell_type": "markdown",
   "metadata": {
    "id": "x8sgDSBoocsW"
   },
   "source": [
    "# 11. Almacenamiento de dataframes"
   ]
  },
  {
   "cell_type": "code",
   "execution_count": 20,
   "metadata": {
    "colab": {
     "referenced_widgets": [
      "b2d8c8177a884d6bafce8f0187a01e51"
     ]
    },
    "id": "-RXdJrtXocsW",
    "outputId": "4c865b28-ac7e-4336-d619-5082ad7dc26b",
    "vscode": {
     "languageId": "python_session"
    }
   },
   "outputs": [
    {
     "name": "stdout",
     "output_type": "stream",
     "text": [
      "Calculation started (calculation_id=88c9001e-d8e5-e932-6ea3-07593089c12e) in (session=b6c9001d-944f-4442-245f-d445c43686aa). Checking calculation status...\n"
     ]
    },
    {
     "data": {
      "application/vnd.jupyter.widget-view+json": {
       "model_id": "177a8677030d447885cb1a7edbb9c379",
       "version_major": 2,
       "version_minor": 0
      },
      "text/plain": [
       "Progress:   0%|          |elapsed time = 00:00s"
      ]
     },
     "metadata": {},
     "output_type": "display_data"
    },
    {
     "name": "stdout",
     "output_type": "stream",
     "text": [
      "Calculation completed.\n"
     ]
    }
   ],
   "source": [
    "#Almacenamos el dataframe que tiene el 100% de registros\n",
    "dfDatasetOrdenado.write.format(\"csv\").option(\"header\", \"false\").option(\"delimiter\", \",\").option(\"encoding\", \"ISO-8859-1\").mode(\"overwrite\").save(rutaArchivoDataset)"
   ]
  },
  {
   "cell_type": "code",
   "execution_count": 21,
   "metadata": {
    "colab": {
     "referenced_widgets": [
      "f527b8fb54994d9e90d44387c371ba1b"
     ]
    },
    "id": "GZzRHkIGocsX",
    "outputId": "baa50dcd-1a2f-459a-c818-ba529afff97d",
    "vscode": {
     "languageId": "python_session"
    }
   },
   "outputs": [
    {
     "name": "stdout",
     "output_type": "stream",
     "text": [
      "Calculation started (calculation_id=bac9001e-e9fb-84f8-73e7-70a16da1ba73) in (session=b6c9001d-944f-4442-245f-d445c43686aa). Checking calculation status...\n"
     ]
    },
    {
     "data": {
      "application/vnd.jupyter.widget-view+json": {
       "model_id": "27de97513f26459c9e75a915b19db635",
       "version_major": 2,
       "version_minor": 0
      },
      "text/plain": [
       "Progress:   0%|          |elapsed time = 00:00s"
      ]
     },
     "metadata": {},
     "output_type": "display_data"
    },
    {
     "name": "stdout",
     "output_type": "stream",
     "text": [
      "Calculation completed.\n"
     ]
    }
   ],
   "source": [
    "#Almacenamos el dataframe de entrenamiento\n",
    "dfTrain.write.format(\"csv\").option(\"header\", \"false\").option(\"delimiter\", \",\").option(\"encoding\", \"ISO-8859-1\").mode(\"overwrite\").save(rutaArchivoDatasetTrain)"
   ]
  },
  {
   "cell_type": "code",
   "execution_count": 22,
   "metadata": {
    "colab": {
     "referenced_widgets": [
      "9aac584732a1421b87e5fb21d0c417fd"
     ]
    },
    "id": "oqmiOoYEocsX",
    "outputId": "a14b12dc-e7d4-4db4-b43d-67768ae6db47",
    "vscode": {
     "languageId": "python_session"
    }
   },
   "outputs": [
    {
     "name": "stdout",
     "output_type": "stream",
     "text": [
      "Calculation started (calculation_id=ccc9001e-ef1f-35fc-f4f8-824b65f2fee2) in (session=b6c9001d-944f-4442-245f-d445c43686aa). Checking calculation status...\n"
     ]
    },
    {
     "data": {
      "application/vnd.jupyter.widget-view+json": {
       "model_id": "9de5c808451d496cb3dc9c7b6adfaa21",
       "version_major": 2,
       "version_minor": 0
      },
      "text/plain": [
       "Progress:   0%|          |elapsed time = 00:00s"
      ]
     },
     "metadata": {},
     "output_type": "display_data"
    },
    {
     "name": "stdout",
     "output_type": "stream",
     "text": [
      "Calculation completed.\n"
     ]
    }
   ],
   "source": [
    "#Almacenamos el dataframe de validacion\n",
    "dfTest.write.format(\"csv\").option(\"header\", \"false\").option(\"delimiter\", \",\").option(\"encoding\", \"ISO-8859-1\").mode(\"overwrite\").save(rutaArchivoDatasetTest)"
   ]
  },
  {
   "cell_type": "code",
   "execution_count": 2,
   "metadata": {
    "id": "VmsUDV88ocsX",
    "vscode": {
     "languageId": "python_session"
    }
   },
   "outputs": [],
   "source": [
    "#En AWS, verificamos la escritura desde el servicio de S3"
   ]
  },
  {
   "cell_type": "markdown",
   "metadata": {
    "id": "uRSzrjuKocsf"
   },
   "source": [
    "# 12. Eliminacion de archivo \"_SUCCESS\""
   ]
  },
  {
   "cell_type": "code",
   "execution_count": 23,
   "metadata": {
    "colab": {
     "referenced_widgets": [
      "41b81e507f544e41b5717ea70f58cfd0"
     ]
    },
    "id": "ENv7tf5Yocsf",
    "outputId": "11ae746a-9857-48f6-9d41-094820880f44",
    "vscode": {
     "languageId": "python_session"
    }
   },
   "outputs": [
    {
     "name": "stdout",
     "output_type": "stream",
     "text": [
      "Calculation started (calculation_id=e8c9001e-f450-4151-1183-485228aa6170) in (session=b6c9001d-944f-4442-245f-d445c43686aa). Checking calculation status...\n"
     ]
    },
    {
     "data": {
      "application/vnd.jupyter.widget-view+json": {
       "model_id": "5b23f00223684fac938cd002c1032327",
       "version_major": 2,
       "version_minor": 0
      },
      "text/plain": [
       "Progress:   0%|          |elapsed time = 00:00s"
      ]
     },
     "metadata": {},
     "output_type": "display_data"
    },
    {
     "name": "stdout",
     "output_type": "stream",
     "text": [
      "Calculation completed.\n"
     ]
    }
   ],
   "source": [
    "#Nos conectamos al servicio de \"S3\"\n",
    "s3 = boto3.client(\"s3\")"
   ]
  },
  {
   "cell_type": "code",
   "execution_count": 24,
   "metadata": {
    "colab": {
     "referenced_widgets": [
      "a60a60e6030a45a0a0264fcfab8745a6"
     ]
    },
    "id": "P_DAKZx6ocsf",
    "outputId": "d18471dc-8da2-4777-e1fc-dad580a7e072",
    "vscode": {
     "languageId": "python_session"
    }
   },
   "outputs": [
    {
     "name": "stdout",
     "output_type": "stream",
     "text": [
      "Calculation started (calculation_id=14c9001e-f95e-1345-d338-56a20161f5b2) in (session=b6c9001d-944f-4442-245f-d445c43686aa). Checking calculation status...\n"
     ]
    },
    {
     "data": {
      "application/vnd.jupyter.widget-view+json": {
       "model_id": "a589fd93410e482c8370321220332b9e",
       "version_major": 2,
       "version_minor": 0
      },
      "text/plain": [
       "Progress:   0%|          |elapsed time = 00:00s"
      ]
     },
     "metadata": {},
     "output_type": "display_data"
    },
    {
     "name": "stdout",
     "output_type": "stream",
     "text": [
      "Calculation completed.\n",
      "{'ResponseMetadata': {'RequestId': 'P0MKQYYBED28R83C', 'HostId': 'QsSjWievSRKAhHJdzPgHcnLG2hHNTYvh2zuYujdbEea5rjUcMvJpzof+CaMj135DWeD6bXSjRUw=', 'HTTPStatusCode': 204, 'HTTPHeaders': {'x-amz-id-2': 'QsSjWievSRKAhHJdzPgHcnLG2hHNTYvh2zuYujdbEea5rjUcMvJpzof+CaMj135DWeD6bXSjRUw=', 'x-amz-request-id': 'P0MKQYYBED28R83C', 'date': 'Tue, 17 Sep 2024 13:48:34 GMT', 'server': 'AmazonS3'}, 'RetryAttempts': 0}}\n",
      "\n"
     ]
    }
   ],
   "source": [
    "#Eliminamos el archivo \"_SUCCESS\" del dataset en donde se encuentran el 100% de registros\n",
    "s3.delete_object(\n",
    "    Bucket = bucket,\n",
    "    Key = f\"{rutaDeArchivo}_dataset/_SUCCESS\"\n",
    ")"
   ]
  },
  {
   "cell_type": "code",
   "execution_count": 25,
   "metadata": {
    "colab": {
     "referenced_widgets": [
      "5576098c9c9b43a582319648fcd5f5fc"
     ]
    },
    "id": "2x4EM9qbocsg",
    "outputId": "80c09671-8e54-4e8c-f3af-8545032cb711",
    "vscode": {
     "languageId": "python_session"
    }
   },
   "outputs": [
    {
     "name": "stdout",
     "output_type": "stream",
     "text": [
      "Calculation started (calculation_id=78c9001e-fe8c-ba10-e8a7-784bda6bd473) in (session=b6c9001d-944f-4442-245f-d445c43686aa). Checking calculation status...\n"
     ]
    },
    {
     "data": {
      "application/vnd.jupyter.widget-view+json": {
       "model_id": "a9cfdd9b83074e208d0c282dff211466",
       "version_major": 2,
       "version_minor": 0
      },
      "text/plain": [
       "Progress:   0%|          |elapsed time = 00:00s"
      ]
     },
     "metadata": {},
     "output_type": "display_data"
    },
    {
     "name": "stdout",
     "output_type": "stream",
     "text": [
      "Calculation completed.\n",
      "{'ResponseMetadata': {'RequestId': 'Y7TVVQPMVMTN5E1G', 'HostId': 'igQLrPkym19cW2O1eyiaaMb1aJz3p71BDClMDNUNI+LEqd9PBnXLsP8L1b5hYftR3QnB5OI3xoo=', 'HTTPStatusCode': 204, 'HTTPHeaders': {'x-amz-id-2': 'igQLrPkym19cW2O1eyiaaMb1aJz3p71BDClMDNUNI+LEqd9PBnXLsP8L1b5hYftR3QnB5OI3xoo=', 'x-amz-request-id': 'Y7TVVQPMVMTN5E1G', 'date': 'Tue, 17 Sep 2024 13:48:36 GMT', 'server': 'AmazonS3'}, 'RetryAttempts': 0}}\n",
      "\n"
     ]
    }
   ],
   "source": [
    "#Eliminamos el archivo \"_SUCCESS\" del dataset de entrenamiento\n",
    "s3.delete_object(\n",
    "    Bucket = bucket,\n",
    "    Key = f\"{rutaDeArchivo}_train/_SUCCESS\"\n",
    ")"
   ]
  },
  {
   "cell_type": "code",
   "execution_count": 26,
   "metadata": {
    "colab": {
     "referenced_widgets": [
      "0296b24d989e4334a72a3f64761a8fa9"
     ]
    },
    "id": "xsGW9Iapocsg",
    "outputId": "e2e9d87f-57e3-4d9a-ce0a-0b70e1ecb37f",
    "vscode": {
     "languageId": "python_session"
    }
   },
   "outputs": [
    {
     "name": "stdout",
     "output_type": "stream",
     "text": [
      "Calculation started (calculation_id=88c9001f-0414-2b65-95df-778b32b98cce) in (session=b6c9001d-944f-4442-245f-d445c43686aa). Checking calculation status...\n"
     ]
    },
    {
     "data": {
      "application/vnd.jupyter.widget-view+json": {
       "model_id": "9510cc970945457e9bd150244ff5df30",
       "version_major": 2,
       "version_minor": 0
      },
      "text/plain": [
       "Progress:   0%|          |elapsed time = 00:00s"
      ]
     },
     "metadata": {},
     "output_type": "display_data"
    },
    {
     "name": "stdout",
     "output_type": "stream",
     "text": [
      "Calculation completed.\n",
      "{'ResponseMetadata': {'RequestId': '8MAMM8894FNVZWS1', 'HostId': 'w0WFafsMzdcNWFQlApxwEclgOTfzKTHxs9Fpim3PBvvGJXoylbln1rocM1VjwXtq0S5+cGumY/I=', 'HTTPStatusCode': 204, 'HTTPHeaders': {'x-amz-id-2': 'w0WFafsMzdcNWFQlApxwEclgOTfzKTHxs9Fpim3PBvvGJXoylbln1rocM1VjwXtq0S5+cGumY/I=', 'x-amz-request-id': '8MAMM8894FNVZWS1', 'date': 'Tue, 17 Sep 2024 13:48:39 GMT', 'server': 'AmazonS3'}, 'RetryAttempts': 0}}\n",
      "\n"
     ]
    }
   ],
   "source": [
    "#Eliminamos el archivo \"_SUCCESS\" del dataset de validacion\n",
    "s3.delete_object(\n",
    "    Bucket = bucket,\n",
    "    Key = f\"{rutaDeArchivo}_test/_SUCCESS\"\n",
    ")"
   ]
  },
  {
   "cell_type": "code",
   "execution_count": 3,
   "metadata": {
    "id": "Y_dJ_rjCocsg",
    "vscode": {
     "languageId": "python_session"
    }
   },
   "outputs": [],
   "source": [
    "#En AWS, verificamos la eliminacion del archivo en S3"
   ]
  }
 ],
 "metadata": {
  "colab": {
   "provenance": []
  },
  "kernelspec": {
   "display_name": "Athena PySpark",
   "language": "python",
   "name": "kepler_python_kernel"
  },
  "language_info": {
   "codemirror_mode": {
    "name": "python",
    "version": 3
   },
   "file_extension": ".py",
   "mimetype": "text/x-python",
   "name": "Python_Session",
   "pygments_lexer": "python3"
  }
 },
 "nbformat": 4,
 "nbformat_minor": 1
}
