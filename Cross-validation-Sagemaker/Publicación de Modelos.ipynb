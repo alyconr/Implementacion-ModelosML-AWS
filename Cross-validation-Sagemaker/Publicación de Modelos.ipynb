{
 "cells": [
  {
   "cell_type": "markdown",
   "id": "573f1111-4c4c-4385-a00b-1e22a2792dd2",
   "metadata": {
    "id": "573f1111-4c4c-4385-a00b-1e22a2792dd2"
   },
   "source": [
    "# 1. Entorno"
   ]
  },
  {
   "cell_type": "code",
   "execution_count": 1,
   "id": "0986c397-8d8b-4f67-8886-520a503ae307",
   "metadata": {
    "id": "0986c397-8d8b-4f67-8886-520a503ae307"
   },
   "outputs": [],
   "source": [
    "#Creamos un Notebook en Python sobre JupyterLab"
   ]
  },
  {
   "cell_type": "markdown",
   "id": "1b767428-a609-4d14-b6a1-d5e007b835a8",
   "metadata": {
    "id": "1b767428-a609-4d14-b6a1-d5e007b835a8"
   },
   "source": [
    "# 2. Librerías"
   ]
  },
  {
   "cell_type": "code",
   "execution_count": 1,
   "id": "978eb428-4237-4f74-9b1d-d9ded269b75b",
   "metadata": {
    "id": "978eb428-4237-4f74-9b1d-d9ded269b75b",
    "outputId": "38f6787e-3e36-46fe-d3a5-9d4458792c3d"
   },
   "outputs": [
    {
     "name": "stdout",
     "output_type": "stream",
     "text": [
      "sagemaker.config INFO - Not applying SDK defaults from location: /etc/xdg/sagemaker/config.yaml\n",
      "sagemaker.config INFO - Not applying SDK defaults from location: /home/sagemaker-user/.config/sagemaker/config.yaml\n"
     ]
    }
   ],
   "source": [
    "#Utilitario para construir modelos de Machine Learning y Deep Learning\n",
    "import sagemaker\n",
    "\n",
    "#Librería para manipular los servicios de AWS\n",
    "import boto3"
   ]
  },
  {
   "cell_type": "markdown",
   "id": "bc34129a-a0f8-43c3-8ce9-a4f8f9411c01",
   "metadata": {
    "id": "bc34129a-a0f8-43c3-8ce9-a4f8f9411c01"
   },
   "source": [
    "# 3. Inicio de Sesión sobre SageMaker"
   ]
  },
  {
   "cell_type": "code",
   "execution_count": 2,
   "id": "4699ac4c-a751-4388-9318-b0b47e434f9c",
   "metadata": {
    "id": "4699ac4c-a751-4388-9318-b0b47e434f9c",
    "outputId": "8cfe23a5-ad6f-4aa5-c90f-0b0030d6c1d7"
   },
   "outputs": [],
   "source": [
    "#Iniciamos sesión en el servicio de SageMaker\n",
    "sesion = sagemaker.Session()\n",
    "\n",
    "#Obtenemos la ejecución en donde estamos trabajando\n",
    "region = sesion.boto_region_name\n",
    "\n",
    "#Obtenemos el rol de ejecución de SageMaker\n",
    "#El rol de ejecución permite a SageMaker usar otros servicios de AWS\n",
    "rol = sagemaker.get_execution_role()"
   ]
  },
  {
   "cell_type": "markdown",
   "id": "2cda0873-6627-4f69-85c1-51eed7f536e7",
   "metadata": {
    "id": "2cda0873-6627-4f69-85c1-51eed7f536e7"
   },
   "source": [
    "# 4. Lectura del Modelo"
   ]
  },
  {
   "cell_type": "code",
   "execution_count": 3,
   "id": "983a833b-46e0-415e-9c89-dfabdf19fc4d",
   "metadata": {
    "id": "983a833b-46e0-415e-9c89-dfabdf19fc4d",
    "outputId": "19b3e1c9-a445-480f-c813-c5de553eb131"
   },
   "outputs": [
    {
     "name": "stdout",
     "output_type": "stream",
     "text": [
      "s3://sagemaker-us-east-1-767828747956/linear-learner-240927-1556-012-966d28e8/output/model.tar.gz\n"
     ]
    }
   ],
   "source": [
    "#Definimos el nombre del entrenamiento al que nos conectamos\n",
    "nombreDeEntrenamiento = \"linear-learner-240927-1556-012-966d28e8\"\n",
    "\n",
    "#Definimos el algoritmo que usamos para entrenar el modelo\n",
    "algoritmo = \"linear-learner\"\n",
    "\n",
    "#Nos conectamos al servicio de SageMaker\n",
    "sagemakerCliente = boto3.client(\"sagemaker\")\n",
    "\n",
    "#Obtenemos la descripción del entrenamiento\n",
    "descripcionDeEntrenamiento = sagemakerCliente.describe_training_job(TrainingJobName = nombreDeEntrenamiento)\n",
    "\n",
    "#Obtenemos la ruta en donde el modelo se encuentra almacenado\n",
    "rutaDelModelo = descripcionDeEntrenamiento[\"ModelArtifacts\"][\"S3ModelArtifacts\"]\n",
    "\n",
    "#Verificamos\n",
    "print(rutaDelModelo)\n",
    "\n",
    "#Utilitario para leer modelos\n",
    "from sagemaker.model import Model\n",
    "#Leemos el modelo\n",
    "modelo = Model(\n",
    "    model_data = rutaDelModelo, #Ruta del modelo\n",
    "    role = rol, #Rol de ejecución\n",
    "    image_uri = sagemaker.image_uris.retrieve(algoritmo, region), #Descargamos la implementación del algoritmo desde la región donde entrenamos\n",
    "    sagemaker_session = sesion #Sesión de SageMaker\n",
    ")"
   ]
  },
  {
   "cell_type": "markdown",
   "id": "df18dfe4-3b89-4994-88c9-5b4be8f197e0",
   "metadata": {
    "id": "df18dfe4-3b89-4994-88c9-5b4be8f197e0"
   },
   "source": [
    "# 5. Creación de Endpoint del modelo"
   ]
  },
  {
   "cell_type": "code",
   "execution_count": 4,
   "id": "76f05438-e58c-4366-9e64-7b01373e1325",
   "metadata": {
    "id": "76f05438-e58c-4366-9e64-7b01373e1325"
   },
   "outputs": [],
   "source": [
    "#Endpoint de acceso al modelo\n",
    "#IMPORTANTE: En \"XXX\" colocar la fecha de hoy, hay un bug que hace que no puedas ver tu modelo si previamente ya lo creaste y borraste\n",
    "nombreDelEndpoint = \"endpoint-numerico-27-09-2024\""
   ]
  },
  {
   "cell_type": "code",
   "execution_count": 5,
   "id": "bc9e1b5d-24af-4196-8143-7ebf07a8cb19",
   "metadata": {
    "id": "bc9e1b5d-24af-4196-8143-7ebf07a8cb19"
   },
   "outputs": [],
   "source": [
    "#Tipo de instancias en donde se publica el modelo\n",
    "tipoDeInstanciaDeEndpoint = \"ml.m5.large\""
   ]
  },
  {
   "cell_type": "code",
   "execution_count": 6,
   "id": "bcfa8853-9068-49a1-8323-b8c77e0d67a8",
   "metadata": {
    "id": "bcfa8853-9068-49a1-8323-b8c77e0d67a8"
   },
   "outputs": [],
   "source": [
    "#Cantidad de servidores iniciales en donde se publica el modelo para ser usado\n",
    "cantidadInicialDeInstancias = 1"
   ]
  },
  {
   "cell_type": "code",
   "execution_count": 7,
   "id": "649980e7-35b8-459c-accd-b9aa4c228ece",
   "metadata": {
    "id": "649980e7-35b8-459c-accd-b9aa4c228ece",
    "outputId": "c783d18e-40f0-456a-8e76-fed34f577779"
   },
   "outputs": [
    {
     "name": "stdout",
     "output_type": "stream",
     "text": [
      "--------!"
     ]
    }
   ],
   "source": [
    "#Desplegamos el modelo\n",
    "#TIEMPO: 5 MINUTOS\n",
    "modelo.deploy(\n",
    "    initial_instance_count = cantidadInicialDeInstancias, #Cantidad de servidores\n",
    "    instance_type = tipoDeInstanciaDeEndpoint, #Tipo de servidor\n",
    "    endpoint_name = nombreDelEndpoint #Nombre del punto de acceso al modelo\n",
    ")"
   ]
  }
 ],
 "metadata": {
  "colab": {
   "provenance": []
  },
  "kernelspec": {
   "display_name": "Python 3 (ipykernel)",
   "language": "python",
   "name": "python3"
  },
  "language_info": {
   "codemirror_mode": {
    "name": "ipython",
    "version": 3
   },
   "file_extension": ".py",
   "mimetype": "text/x-python",
   "name": "python",
   "nbconvert_exporter": "python",
   "pygments_lexer": "ipython3",
   "version": "3.11.9"
  }
 },
 "nbformat": 4,
 "nbformat_minor": 5
}
