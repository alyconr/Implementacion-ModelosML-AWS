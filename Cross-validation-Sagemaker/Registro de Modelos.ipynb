{
 "cells": [
  {
   "cell_type": "markdown",
   "id": "573f1111-4c4c-4385-a00b-1e22a2792dd2",
   "metadata": {
    "id": "573f1111-4c4c-4385-a00b-1e22a2792dd2"
   },
   "source": [
    "# 1. Entorno"
   ]
  },
  {
   "cell_type": "code",
   "execution_count": 1,
   "id": "0986c397-8d8b-4f67-8886-520a503ae307",
   "metadata": {
    "id": "0986c397-8d8b-4f67-8886-520a503ae307"
   },
   "outputs": [],
   "source": [
    "#Creamos un Notebook en Python sobre JupyterLab"
   ]
  },
  {
   "cell_type": "markdown",
   "id": "1b767428-a609-4d14-b6a1-d5e007b835a8",
   "metadata": {
    "id": "1b767428-a609-4d14-b6a1-d5e007b835a8"
   },
   "source": [
    "# 2. Librerías"
   ]
  },
  {
   "cell_type": "code",
   "execution_count": 10,
   "id": "978eb428-4237-4f74-9b1d-d9ded269b75b",
   "metadata": {
    "id": "978eb428-4237-4f74-9b1d-d9ded269b75b",
    "outputId": "867a6c50-abeb-4d49-a473-88b2e59745f6"
   },
   "outputs": [],
   "source": [
    "#Utilitario para construir modelos de Machine Learning y Deep Learning\n",
    "import sagemaker\n",
    "\n",
    "#Librería para manipular los servicios de AWS\n",
    "import boto3"
   ]
  },
  {
   "cell_type": "markdown",
   "id": "bc34129a-a0f8-43c3-8ce9-a4f8f9411c01",
   "metadata": {
    "id": "bc34129a-a0f8-43c3-8ce9-a4f8f9411c01"
   },
   "source": [
    "# 3. Inicio de Sesión sobre SageMaker"
   ]
  },
  {
   "cell_type": "code",
   "execution_count": 11,
   "id": "4699ac4c-a751-4388-9318-b0b47e434f9c",
   "metadata": {
    "id": "4699ac4c-a751-4388-9318-b0b47e434f9c",
    "outputId": "c45ddbb4-a8f9-4e28-9c01-6759fb3fffd8"
   },
   "outputs": [],
   "source": [
    "#Iniciamos sesión en el servicio de SageMaker\n",
    "sesion = sagemaker.Session()\n",
    "\n",
    "#Obtenemos la ejecución en donde estamos trabajando\n",
    "region = sesion.boto_region_name\n",
    "\n",
    "#Obtenemos el rol de ejecución de SageMaker\n",
    "#El rol de ejecución permite a SageMaker usar otros servicios de AWS\n",
    "rol = sagemaker.get_execution_role()"
   ]
  },
  {
   "cell_type": "markdown",
   "id": "2cda0873-6627-4f69-85c1-51eed7f536e7",
   "metadata": {
    "id": "2cda0873-6627-4f69-85c1-51eed7f536e7"
   },
   "source": [
    "# 4. Lectura del Modelo"
   ]
  },
  {
   "cell_type": "code",
   "execution_count": 15,
   "id": "983a833b-46e0-415e-9c89-dfabdf19fc4d",
   "metadata": {
    "id": "983a833b-46e0-415e-9c89-dfabdf19fc4d"
   },
   "outputs": [],
   "source": [
    "#Definimos el nombre del entrenamiento al que nos conectamos\n",
    "nombreDeEntrenamiento = \"linear-learner-240927-1556-012-966d28e8\""
   ]
  },
  {
   "cell_type": "code",
   "execution_count": 16,
   "id": "1c72a5a0-61fc-4a68-a5ee-5840699f88b0",
   "metadata": {
    "id": "1c72a5a0-61fc-4a68-a5ee-5840699f88b0"
   },
   "outputs": [],
   "source": [
    "#Definimos el algoritmo que usamos para entrenar el modelo\n",
    "algoritmo = \"linear-learner\""
   ]
  },
  {
   "cell_type": "code",
   "execution_count": 17,
   "id": "c02b972e-f9fb-49d4-b1d1-840251ba37c2",
   "metadata": {
    "id": "c02b972e-f9fb-49d4-b1d1-840251ba37c2"
   },
   "outputs": [],
   "source": [
    "#Nos conectamos al servicio de SageMaker\n",
    "sagemakerCliente = boto3.client(\"sagemaker\")\n",
    "\n",
    "#Obtenemos la descripción del entrenamiento\n",
    "descripcionDeEntrenamiento = sagemakerCliente.describe_training_job(TrainingJobName = nombreDeEntrenamiento)"
   ]
  },
  {
   "cell_type": "code",
   "execution_count": 18,
   "id": "f134bbd9-da2e-4588-b6cb-a23a21086e9f",
   "metadata": {
    "id": "f134bbd9-da2e-4588-b6cb-a23a21086e9f"
   },
   "outputs": [],
   "source": [
    "#Obtenemos la ruta en donde el modelo se encuentra almacenado\n",
    "rutaDelModelo = descripcionDeEntrenamiento[\"ModelArtifacts\"][\"S3ModelArtifacts\"]"
   ]
  },
  {
   "cell_type": "code",
   "execution_count": 19,
   "id": "8a875d05-486d-4a5d-9044-965723ca180a",
   "metadata": {
    "id": "8a875d05-486d-4a5d-9044-965723ca180a",
    "outputId": "7e6d92bb-851c-41fc-c346-dcbaa6a94c41"
   },
   "outputs": [
    {
     "name": "stdout",
     "output_type": "stream",
     "text": [
      "s3://sagemaker-us-east-1-767828747956/linear-learner-240927-1556-012-966d28e8/output/model.tar.gz\n"
     ]
    }
   ],
   "source": [
    "#Verificamos\n",
    "print(rutaDelModelo)"
   ]
  },
  {
   "cell_type": "code",
   "execution_count": 20,
   "id": "fa8f7b1a-4db2-4719-b2e7-e051ffca2a62",
   "metadata": {
    "id": "fa8f7b1a-4db2-4719-b2e7-e051ffca2a62"
   },
   "outputs": [],
   "source": [
    "#Utilitario para leer modelos\n",
    "from sagemaker.model import Model"
   ]
  },
  {
   "cell_type": "code",
   "execution_count": 21,
   "id": "a34bedb5-b8d4-4d8e-b3ba-639f641687f0",
   "metadata": {
    "id": "a34bedb5-b8d4-4d8e-b3ba-639f641687f0"
   },
   "outputs": [],
   "source": [
    "#Leemos el modelo\n",
    "modelo = Model(\n",
    "    model_data = rutaDelModelo, #Ruta del modelo\n",
    "    role = rol, #Rol de ejecución\n",
    "    image_uri = sagemaker.image_uris.retrieve(algoritmo, region), #Descargamos la implementación del algoritmo desde la región donde entrenamos\n",
    "    sagemaker_session = sesion #Sesión de SageMaker\n",
    ")"
   ]
  },
  {
   "cell_type": "markdown",
   "id": "78eb30c8",
   "metadata": {},
   "source": []
  },
  {
   "cell_type": "markdown",
   "id": "09785a99-24a9-4ecf-b336-eb0b5fca3663",
   "metadata": {
    "id": "09785a99-24a9-4ecf-b336-eb0b5fca3663"
   },
   "source": [
    "# 5. Registro del modelo"
   ]
  },
  {
   "cell_type": "code",
   "execution_count": 22,
   "id": "dbcf6eb8-5020-44c6-82c7-64aee6424ba8",
   "metadata": {
    "id": "dbcf6eb8-5020-44c6-82c7-64aee6424ba8"
   },
   "outputs": [],
   "source": [
    "#Definimos el nombre del modelo\n",
    "#IMPORTANTE: En \"XXX\" colocar la fecha de hoy, hay un bug que hace que no puedas ver tu modelo si previamente ya lo creaste y borraste\n",
    "nombreDelModelo = \"modelo-numerico-bda-jac\""
   ]
  },
  {
   "cell_type": "code",
   "execution_count": 23,
   "id": "47751039-c3ba-4005-848b-e5bf21d001e3",
   "metadata": {
    "id": "47751039-c3ba-4005-848b-e5bf21d001e3"
   },
   "outputs": [],
   "source": [
    "#Tipos de registros que el modelo acepta como INPUT para hacer predicciones\n",
    "#Aceptará registros JSON y registros CSV\n",
    "tiposDeRegistrosInput = [\"application/json\", \"text/csv\"]"
   ]
  },
  {
   "cell_type": "code",
   "execution_count": 24,
   "id": "5b4163c7-4c06-422c-834c-88e5e897f947",
   "metadata": {
    "id": "5b4163c7-4c06-422c-834c-88e5e897f947"
   },
   "outputs": [],
   "source": [
    "#Tipos de registros que el modelo entrega como OUTPUT cuando hace predicciones\n",
    "#Las predicciones las devolverá en un JSON\n",
    "tiposDeRegistrosOutput = [\"application/json\"]"
   ]
  },
  {
   "cell_type": "code",
   "execution_count": 25,
   "id": "27442958-f48f-4d95-9640-bcd2b7087f23",
   "metadata": {
    "id": "27442958-f48f-4d95-9640-bcd2b7087f23"
   },
   "outputs": [],
   "source": [
    "#Tipo de instancias donde el modelo se ejecuta\n",
    "tipoDeInstanciasDeEjecucion = [\"ml.m5.large\"]"
   ]
  },
  {
   "cell_type": "code",
   "execution_count": 26,
   "id": "cc29d68d-9f49-438e-9d65-7449e4ac7e72",
   "metadata": {
    "id": "cc29d68d-9f49-438e-9d65-7449e4ac7e72"
   },
   "outputs": [],
   "source": [
    "#Registramos el modelo\n",
    "registroDelModelo = modelo.register(\n",
    "    model_package_group_name = nombreDelModelo,\n",
    "    content_types = tiposDeRegistrosInput, #Tipo de registros INPUT del modelo\n",
    "    response_types = tiposDeRegistrosOutput, #Tipo de registros OUTPUT del modelo\n",
    "    inference_instances = tipoDeInstanciasDeEjecucion, #Tipo de servidor en donde se colocará el modelo\n",
    "    transform_instances = tipoDeInstanciasDeEjecucion #Tipo de servidor en donde el modelo realizará cálculos intermedios\n",
    ")"
   ]
  }
 ],
 "metadata": {
  "colab": {
   "provenance": []
  },
  "kernelspec": {
   "display_name": "Python 3 (ipykernel)",
   "language": "python",
   "name": "python3"
  },
  "language_info": {
   "codemirror_mode": {
    "name": "ipython",
    "version": 3
   },
   "file_extension": ".py",
   "mimetype": "text/x-python",
   "name": "python",
   "nbconvert_exporter": "python",
   "pygments_lexer": "ipython3",
   "version": "3.11.9"
  }
 },
 "nbformat": 4,
 "nbformat_minor": 5
}
