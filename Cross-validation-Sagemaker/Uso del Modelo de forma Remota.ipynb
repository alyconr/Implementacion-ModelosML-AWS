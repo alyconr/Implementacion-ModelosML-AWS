{
 "cells": [
  {
   "cell_type": "markdown",
   "id": "573f1111-4c4c-4385-a00b-1e22a2792dd2",
   "metadata": {
    "id": "573f1111-4c4c-4385-a00b-1e22a2792dd2"
   },
   "source": [
    "# 1. Entorno"
   ]
  },
  {
   "cell_type": "code",
   "execution_count": 1,
   "id": "0986c397-8d8b-4f67-8886-520a503ae307",
   "metadata": {
    "id": "0986c397-8d8b-4f67-8886-520a503ae307"
   },
   "outputs": [],
   "source": [
    "#Creamos un Notebook en Python sobre JupyterLab"
   ]
  },
  {
   "cell_type": "markdown",
   "id": "1b767428-a609-4d14-b6a1-d5e007b835a8",
   "metadata": {
    "id": "1b767428-a609-4d14-b6a1-d5e007b835a8"
   },
   "source": [
    "# 2. Librerías"
   ]
  },
  {
   "cell_type": "code",
   "execution_count": 2,
   "id": "978eb428-4237-4f74-9b1d-d9ded269b75b",
   "metadata": {
    "id": "978eb428-4237-4f74-9b1d-d9ded269b75b",
    "outputId": "52700a4f-a114-4d87-8dd1-e24fa317bfcb"
   },
   "outputs": [
    {
     "name": "stdout",
     "output_type": "stream",
     "text": [
      "sagemaker.config INFO - Not applying SDK defaults from location: /etc/xdg/sagemaker/config.yaml\n",
      "sagemaker.config INFO - Not applying SDK defaults from location: /home/sagemaker-user/.config/sagemaker/config.yaml\n"
     ]
    }
   ],
   "source": [
    "#Utilitario para construir modelos de Machine Learning y Deep Learning\n",
    "import sagemaker\n",
    "\n",
    "#Librería para manipular los servicios de AWS\n",
    "import boto3\n",
    "\n",
    "#Utilitario para serializar el INPUT del modelo (CSV)\n",
    "from sagemaker.serializers import CSVSerializer"
   ]
  },
  {
   "cell_type": "markdown",
   "id": "bc34129a-a0f8-43c3-8ce9-a4f8f9411c01",
   "metadata": {
    "id": "bc34129a-a0f8-43c3-8ce9-a4f8f9411c01"
   },
   "source": [
    "# 3. Inicio de Sesión sobre SageMaker"
   ]
  },
  {
   "cell_type": "code",
   "execution_count": 3,
   "id": "4699ac4c-a751-4388-9318-b0b47e434f9c",
   "metadata": {
    "id": "4699ac4c-a751-4388-9318-b0b47e434f9c",
    "outputId": "7987f110-3382-4679-b8b0-f06095e0c1f5"
   },
   "outputs": [],
   "source": [
    "#Iniciamos sesión en el servicio de SageMaker\n",
    "sesion = sagemaker.Session()\n",
    "\n",
    "#Obtenemos la ejecución en donde estamos trabajando\n",
    "region = sesion.boto_region_name\n",
    "\n",
    "#Obtenemos el rol de ejecución de SageMaker\n",
    "#El rol de ejecución permite a SageMaker usar otros servicios de AWS\n",
    "rol = sagemaker.get_execution_role()"
   ]
  },
  {
   "cell_type": "markdown",
   "id": "14c39b14-2282-4aa5-a786-a7154a011d5e",
   "metadata": {
    "id": "14c39b14-2282-4aa5-a786-a7154a011d5e"
   },
   "source": [
    "# 4. Definición de Registros"
   ]
  },
  {
   "cell_type": "code",
   "execution_count": 4,
   "id": "d888f071-7abe-481f-9930-a3602db1b8ef",
   "metadata": {
    "id": "d888f071-7abe-481f-9930-a3602db1b8ef"
   },
   "outputs": [],
   "source": [
    "# Datos de entrada para la predicción (ajusta según tus requisitos)\n",
    "registros = [\n",
    "    [\n",
    "        19.0, #age\n",
    "        27.9, #bmi\n",
    "        0.0, #children\n",
    "        1, #sex_female\n",
    "        0, #sex_male\n",
    "        0, #region_northeast\n",
    "        0, #region_northwest\n",
    "        0, #region_southeast\n",
    "        1, #region_southwest\n",
    "        0, #smoker_no\n",
    "        1 #smoker_yes\n",
    "    ],\n",
    "    [\n",
    "        18.0, #age\n",
    "        33.770, #bmi\n",
    "        1.0, #children\n",
    "        0, #sex_female\n",
    "        1, #sex_male\n",
    "        0, #region_northeast\n",
    "        0, #region_northwest\n",
    "        1, #region_southeast\n",
    "        0, #region_southwest\n",
    "        1, #smoker_no\n",
    "        0 #smoker_yes\n",
    "    ],\n",
    "    [\n",
    "        28.0, #age\n",
    "        33.000, #bmi\n",
    "        3.0, #children\n",
    "        0, #sex_female\n",
    "        1, #sex_male\n",
    "        0, #region_northeast\n",
    "        0, #region_northwest\n",
    "        1, #region_southeast\n",
    "        0, #region_southwest\n",
    "        1, #smoker_no\n",
    "        0 #smoker_yes\n",
    "    ]\n",
    "]"
   ]
  },
  {
   "cell_type": "code",
   "execution_count": 5,
   "id": "af553744-088a-4ce6-8d57-b5deeeebed3d",
   "metadata": {
    "id": "af553744-088a-4ce6-8d57-b5deeeebed3d"
   },
   "outputs": [],
   "source": [
    "#Serializamos los registros\n",
    "registrosSerializados = CSVSerializer().serialize(registros)"
   ]
  },
  {
   "cell_type": "markdown",
   "id": "09785a99-24a9-4ecf-b336-eb0b5fca3663",
   "metadata": {
    "id": "09785a99-24a9-4ecf-b336-eb0b5fca3663"
   },
   "source": [
    "# 5. Uso del Modelo"
   ]
  },
  {
   "cell_type": "code",
   "execution_count": 6,
   "id": "37dc54fa-3503-436e-a897-a00350e33637",
   "metadata": {
    "id": "37dc54fa-3503-436e-a897-a00350e33637"
   },
   "outputs": [],
   "source": [
    "#Endpoint de acceso al modelo\n",
    "#IMPORTANTE: En \"XXX\" colocar la fecha de hoy, hay un bug que hace que no puedas ver tu modelo si previamente ya lo creaste y borraste\n",
    "nombreDelEndpoint = \"endpoint-numerico-XXX\""
   ]
  },
  {
   "cell_type": "code",
   "execution_count": 7,
   "id": "092043e4-02fe-467c-b142-5257d85d2a34",
   "metadata": {
    "id": "092043e4-02fe-467c-b142-5257d85d2a34"
   },
   "outputs": [],
   "source": [
    "#Nos conectamos al cliente de ejecución remota de modelos\n",
    "sagemakerRuntime = boto3.client(\"sagemaker-runtime\")"
   ]
  },
  {
   "cell_type": "code",
   "execution_count": 8,
   "id": "8732f646-06f8-4bee-9e96-f3266db127e0",
   "metadata": {
    "id": "8732f646-06f8-4bee-9e96-f3266db127e0"
   },
   "outputs": [],
   "source": [
    "#Nos conectamos al end-point para obtener la predicción\n",
    "respuesta = sagemakerRuntime.invoke_endpoint(\n",
    "    EndpointName = nombreDelEndpoint,\n",
    "    ContentType = \"text/csv\",\n",
    "    Body = registrosSerializados\n",
    ")"
   ]
  },
  {
   "cell_type": "code",
   "execution_count": 9,
   "id": "db9af77c-41ee-4fcc-8025-23439f4b8ad0",
   "metadata": {
    "id": "db9af77c-41ee-4fcc-8025-23439f4b8ad0"
   },
   "outputs": [],
   "source": [
    "#Extraemos la respuesta de la petición\n",
    "resultados = respuesta[\"Body\"].read()"
   ]
  },
  {
   "cell_type": "code",
   "execution_count": 10,
   "id": "b1e469f5-8140-4af6-8246-8122f3843035",
   "metadata": {
    "id": "b1e469f5-8140-4af6-8246-8122f3843035",
    "outputId": "b9509a77-b1c1-4995-c1d6-6921b000bcae"
   },
   "outputs": [
    {
     "data": {
      "text/plain": [
       "b'{\"predictions\": [{\"score\": 28350.171875}, {\"score\": 2489.6142578125}, {\"score\": 5594.03271484375}]}'"
      ]
     },
     "execution_count": 10,
     "metadata": {},
     "output_type": "execute_result"
    }
   ],
   "source": [
    "#Verificamos los resultados de las predicciones\n",
    "resultados"
   ]
  }
 ],
 "metadata": {
  "colab": {
   "provenance": []
  },
  "kernelspec": {
   "display_name": "Python 3 (ipykernel)",
   "language": "python",
   "name": "python3"
  },
  "language_info": {
   "codemirror_mode": {
    "name": "ipython",
    "version": 3
   },
   "file_extension": ".py",
   "mimetype": "text/x-python",
   "name": "python",
   "nbconvert_exporter": "python",
   "pygments_lexer": "ipython3",
   "version": "3.10.14"
  }
 },
 "nbformat": 4,
 "nbformat_minor": 5
}
