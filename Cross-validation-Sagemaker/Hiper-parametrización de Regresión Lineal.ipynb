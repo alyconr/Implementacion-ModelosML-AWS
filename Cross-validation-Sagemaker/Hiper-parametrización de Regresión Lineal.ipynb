{
 "cells": [
  {
   "cell_type": "markdown",
   "metadata": {},
   "source": [
    "1. INICION DE SESIÓN SOBRE SAGE MAKER"
   ]
  },
  {
   "cell_type": "code",
   "execution_count": 12,
   "metadata": {},
   "outputs": [
    {
     "name": "stdout",
     "output_type": "stream",
     "text": [
      "The history saving thread hit an unexpected error (OperationalError('attempt to write a readonly database')).History will not be written to the database.\n",
      "us-east-1\n"
     ]
    }
   ],
   "source": [
    "#Utilitario para construir modelos de Machine Learning y Deep Learning\n",
    "import sagemaker\n",
    "\n",
    "#Iniciamos sesión en el servicio de SageMaker\n",
    "sesion = sagemaker.Session()\n",
    "\n",
    "#Obtenemos la ejecución en donde estamos trabajando\n",
    "region = sesion.boto_region_name\n",
    "\n",
    "#Verificamos\n",
    "print(region)\n",
    "\n",
    "#Obtenemos el rol de ejecución de SageMaker\n",
    "#El rol de ejecución permite a SageMaker usar otros servicios de AWS\n",
    "rol = sagemaker.get_execution_role()"
   ]
  },
  {
   "cell_type": "markdown",
   "metadata": {},
   "source": [
    "2. LECTURA DE ARCHIVOS DE LA VALIDACION CRUZADA"
   ]
  },
  {
   "cell_type": "code",
   "execution_count": 13,
   "metadata": {},
   "outputs": [],
   "source": [
    "#Utilitario para leer archivos de datos\n",
    "from sagemaker.inputs import TrainingInput\n",
    "\n",
    "#Bucket en donde se encuentran los archivos\n",
    "#IMPORTANTE: REEMPLAZAR \"XXX\" POR TUS INICIALES\n",
    "bucket = \"datasetsbdajac\"\n",
    "\n",
    "#Lectura de datos de entrenamiento\n",
    "dataTrain = TrainingInput(\n",
    "    f\"s3://{bucket}/data/insurance_dataset_validacion_cruzada/vc1/train/\", #Ruta del archivo\n",
    "    content_type = \"text/csv\", #Formato del archivo\n",
    "    distribution = \"FullyReplicated\", #El archivo será copiado en todos los servidores\n",
    "    s3_data_type = \"S3Prefix\", #Desde donde se lee el archivo (S3)\n",
    "    input_mode = \"File\", #Los registros se encuentran dentro de archivos\n",
    "    record_wrapping = \"None\" #Envoltorio de optimización\n",
    ")\n",
    "\n",
    "#Lectura de datos de validación\n",
    "dataTest = TrainingInput(\n",
    "    f\"s3://{bucket}/data/insurance_dataset_validacion_cruzada/vc1/test/\", #Ruta del archivo\n",
    "    content_type = \"text/csv\", #Formato del archivo\n",
    "    distribution = \"FullyReplicated\", #El archivo será copiado en todos los servidores\n",
    "    s3_data_type = \"S3Prefix\", #Desde donde se lee el archivo (S3)\n",
    "    input_mode = \"File\", #Los registros se encuentran dentro de archivos\n",
    "    record_wrapping = \"None\" #Envoltorio de optimización\n",
    ")"
   ]
  },
  {
   "cell_type": "markdown",
   "metadata": {},
   "source": [
    "3.  CONFIGURACION DEL ALGORITMO "
   ]
  },
  {
   "cell_type": "code",
   "execution_count": 14,
   "metadata": {},
   "outputs": [],
   "source": [
    "#Importamos el utilitario para definir el entrenador del algoritmo\n",
    "from sagemaker.estimator import Estimator\n",
    "\n",
    "#Definimos el entrenador del algoritmo\n",
    "entrenador = Estimator(\n",
    "    image_uri = sagemaker.image_uris.retrieve(\"linear-learner\", region), #Descargamos la implementación del algoritmo desde la región donde trabajamos\n",
    "    role = rol, #Rol que ejecuta servicios sobre AWS\n",
    "    instance_count = 1, #Cantidad de servidores de entrenamiento\n",
    "    instance_type = \"ml.m5.large\", #Tipo de servidor de entrenamiento\n",
    "    predictor_type = \"regressor\", #Tipo de predicción del algoritmo\n",
    "    sagemaker_session = sesion, #Sesión de SageMaker\n",
    "    base_job_name = \"entrenamiento-prediccion-numerica-vc1\" #Nombre del job de entrenamiento\n",
    ")\n",
    "\n",
    "#Configuramos los parametros del algoritmo\n",
    "entrenador.set_hyperparameters(\n",
    "    feature_dim = 11, #Cantidad de features\n",
    "    predictor_type = \"regressor\", #Indicamos que tipo de predicción es\n",
    "    normalize_data = \"true\", #Normalizamos los features\n",
    "    normalize_label = \"true\" #Normalizamos el label\n",
    ")"
   ]
  },
  {
   "cell_type": "markdown",
   "metadata": {},
   "source": [
    "4. DEFINICION DE HIPERPARAMETROS "
   ]
  },
  {
   "cell_type": "code",
   "execution_count": 15,
   "metadata": {},
   "outputs": [],
   "source": [
    "#Utilitario para definir rangos de hyper-parámetros que pueden tomar valores continuos\n",
    "from sagemaker.tuner import ContinuousParameter"
   ]
  },
  {
   "cell_type": "code",
   "execution_count": 16,
   "metadata": {},
   "outputs": [],
   "source": [
    "#Utilitario para definir rangos de hyper-parámetros que pueden tomar valores enteros\n",
    "from sagemaker.tuner import IntegerParameter"
   ]
  },
  {
   "cell_type": "code",
   "execution_count": 17,
   "metadata": {},
   "outputs": [],
   "source": [
    "#Utilitario para definir rangos de hyper-parámetros que pueden tomar valores enteros\n",
    "from sagemaker.tuner import CategoricalParameter"
   ]
  },
  {
   "cell_type": "code",
   "execution_count": 18,
   "metadata": {},
   "outputs": [],
   "source": [
    "#Definimos los hyper-parámetros del modelo\n",
    "hyperparametros = {\n",
    "    \"learning_rate\": CategoricalParameter([0.0001, 0.001, 0.01, 0.1]), #Ratio de aprendizaje\n",
    "    \"l1\": CategoricalParameter([0.001, 0.01, 0.1])  #Tamaño de batch\n",
    "}"
   ]
  },
  {
   "cell_type": "code",
   "execution_count": 19,
   "metadata": {},
   "outputs": [],
   "source": [
    "#Utilitario para crear la malla de hyper-parametrización\n",
    "from sagemaker.tuner import HyperparameterTuner"
   ]
  },
  {
   "cell_type": "code",
   "execution_count": 20,
   "metadata": {},
   "outputs": [],
   "source": [
    "#Creamos la malla de hyper-parametrización\n",
    "mallaDeHyperParametros = HyperparameterTuner(\n",
    "    entrenador, #Entrenador del algoritmo\n",
    "    \"validation:mse\", #Métrica para elegir el mejor modelo\n",
    "    hyperparametros, #Hyper-parámetros definidos\n",
    "    objective_type = \"Minimize\", #Elegimos el modelo con el mayor valor de accuracy\n",
    "    max_jobs = 12, #Cantidad de procesos de entrenamiento.\n",
    "    max_parallel_jobs = 10 #Cantidad de procesos de entrenamiento en paralelo\n",
    ")"
   ]
  },
  {
   "cell_type": "markdown",
   "metadata": {},
   "source": [
    "5. ENTRENAMIENTO DEL MODELO "
   ]
  },
  {
   "cell_type": "code",
   "execution_count": 21,
   "metadata": {},
   "outputs": [
    {
     "name": "stderr",
     "output_type": "stream",
     "text": [
      "No finished training job found associated with this estimator. Please make sure this estimator is only used for building workflow config\n",
      "No finished training job found associated with this estimator. Please make sure this estimator is only used for building workflow config\n"
     ]
    },
    {
     "name": "stdout",
     "output_type": "stream",
     "text": [
      "....................................................!\n"
     ]
    }
   ],
   "source": [
    "#Ejecutamos la malla de hyper-parametrización\n",
    "#TIEMPO: 5 MINUTOS\n",
    "mallaDeHyperParametros.fit(inputs = {\"train\": dataTrain, \"validation\": dataTest})"
   ]
  },
  {
   "cell_type": "markdown",
   "metadata": {},
   "source": [
    "5. SELECCION DEW MEJOR MODELO"
   ]
  },
  {
   "cell_type": "code",
   "execution_count": 22,
   "metadata": {},
   "outputs": [],
   "source": [
    "#Librería de AWS\n",
    "import boto3\n",
    "\n",
    "#Nos conectamos al servicio de SageMaker\n",
    "sagemakerCliente = boto3.client(\"sagemaker\")"
   ]
  },
  {
   "cell_type": "code",
   "execution_count": 23,
   "metadata": {},
   "outputs": [],
   "source": [
    "#Obtenemos el mejor modelo entrenado (el del menor error)\n",
    "nombreDelMejorModelo = mallaDeHyperParametros.best_training_job()"
   ]
  },
  {
   "cell_type": "code",
   "execution_count": 24,
   "metadata": {},
   "outputs": [
    {
     "name": "stdout",
     "output_type": "stream",
     "text": [
      "linear-learner-240927-1556-012-966d28e8\n"
     ]
    }
   ],
   "source": [
    "#Verificamos\n",
    "print(nombreDelMejorModelo)"
   ]
  },
  {
   "cell_type": "markdown",
   "metadata": {},
   "source": [
    "7. ESTADISTICAS DEL MODELO"
   ]
  },
  {
   "cell_type": "code",
   "execution_count": 25,
   "metadata": {},
   "outputs": [
    {
     "data": {
      "text/plain": [
       "[{'MetricName': 'train:progress',\n",
       "  'Value': 100.0,\n",
       "  'Timestamp': datetime.datetime(2024, 9, 27, 16, 0, 32, tzinfo=tzlocal())},\n",
       " {'MetricName': 'validation:mae',\n",
       "  'Value': 3458.134521484375,\n",
       "  'Timestamp': datetime.datetime(2024, 9, 27, 16, 0, 32, tzinfo=tzlocal())},\n",
       " {'MetricName': 'train:objective_loss',\n",
       "  'Value': 0.3640965223312378,\n",
       "  'Timestamp': datetime.datetime(2024, 9, 27, 16, 0, 32, tzinfo=tzlocal())},\n",
       " {'MetricName': 'validation:objective_loss',\n",
       "  'Value': 41873456.0,\n",
       "  'Timestamp': datetime.datetime(2024, 9, 27, 16, 0, 32, tzinfo=tzlocal())},\n",
       " {'MetricName': 'validation:objective_loss:final',\n",
       "  'Value': 31685344.0,\n",
       "  'Timestamp': datetime.datetime(2024, 9, 27, 16, 0, 32, tzinfo=tzlocal())},\n",
       " {'MetricName': 'validation:rmse',\n",
       "  'Value': 5628.9736328125,\n",
       "  'Timestamp': datetime.datetime(2024, 9, 27, 16, 0, 32, tzinfo=tzlocal())},\n",
       " {'MetricName': 'validation:mse',\n",
       "  'Value': 31685344.0,\n",
       "  'Timestamp': datetime.datetime(2024, 9, 27, 16, 0, 32, tzinfo=tzlocal())},\n",
       " {'MetricName': 'validation:r2',\n",
       "  'Value': 0.7662912011146545,\n",
       "  'Timestamp': datetime.datetime(2024, 9, 27, 16, 0, 32, tzinfo=tzlocal())},\n",
       " {'MetricName': 'train:throughput',\n",
       "  'Value': 52085.90625,\n",
       "  'Timestamp': datetime.datetime(2024, 9, 27, 16, 0, 32, tzinfo=tzlocal())},\n",
       " {'MetricName': 'validation:absolute_loss',\n",
       "  'Value': 3458.13427734375,\n",
       "  'Timestamp': datetime.datetime(2024, 9, 27, 16, 0, 32, tzinfo=tzlocal())},\n",
       " {'MetricName': 'ObjectiveMetric',\n",
       "  'Value': 31685344.0,\n",
       "  'Timestamp': datetime.datetime(2024, 9, 27, 16, 0, 32, tzinfo=tzlocal())}]"
      ]
     },
     "execution_count": 25,
     "metadata": {},
     "output_type": "execute_result"
    }
   ],
   "source": [
    "#Obtenemos la descripción del entrenamiento\n",
    "descripcionDeEntrenamiento = sagemakerCliente.describe_training_job(TrainingJobName = nombreDelMejorModelo)\n",
    "\n",
    "#Dentro de la sub-variable \"FinalMetricDataList\" tenemos las métricas del modelo\n",
    "descripcionDeEntrenamiento[\"FinalMetricDataList\"]"
   ]
  },
  {
   "cell_type": "code",
   "execution_count": 26,
   "metadata": {},
   "outputs": [
    {
     "name": "stdout",
     "output_type": "stream",
     "text": [
      "31685344.0\n"
     ]
    }
   ],
   "source": [
    "#Imprimimos sólo la métrica de nuestro interés\n",
    "for metrica in descripcionDeEntrenamiento[\"FinalMetricDataList\"]:\n",
    "    if metrica[\"MetricName\"] == \"validation:mse\":\n",
    "        print(metrica[\"Value\"])"
   ]
  },
  {
   "cell_type": "code",
   "execution_count": 27,
   "metadata": {},
   "outputs": [
    {
     "data": {
      "text/plain": [
       "{'_tuning_objective_metric': 'validation:mse',\n",
       " 'feature_dim': '11',\n",
       " 'l1': '0.01',\n",
       " 'learning_rate': '0.1',\n",
       " 'normalize_data': 'true',\n",
       " 'normalize_label': 'true',\n",
       " 'predictor_type': 'regressor'}"
      ]
     },
     "execution_count": 27,
     "metadata": {},
     "output_type": "execute_result"
    }
   ],
   "source": [
    "#Extraemos los hyper-parametros del modelo\n",
    "descripcionDeEntrenamiento[\"HyperParameters\"]"
   ]
  },
  {
   "cell_type": "code",
   "execution_count": 28,
   "metadata": {},
   "outputs": [
    {
     "data": {
      "text/plain": [
       "'0.1'"
      ]
     },
     "execution_count": 28,
     "metadata": {},
     "output_type": "execute_result"
    }
   ],
   "source": [
    "#Extraemos el learning rate\n",
    "descripcionDeEntrenamiento[\"HyperParameters\"][\"learning_rate\"]"
   ]
  },
  {
   "cell_type": "code",
   "execution_count": 29,
   "metadata": {},
   "outputs": [
    {
     "data": {
      "text/plain": [
       "'0.01'"
      ]
     },
     "execution_count": 29,
     "metadata": {},
     "output_type": "execute_result"
    }
   ],
   "source": [
    "#Extraemos el batch size\n",
    "descripcionDeEntrenamiento[\"HyperParameters\"][\"l1\"]"
   ]
  }
 ],
 "metadata": {
  "kernelspec": {
   "display_name": "base",
   "language": "python",
   "name": "python3"
  },
  "language_info": {
   "codemirror_mode": {
    "name": "ipython",
    "version": 3
   },
   "file_extension": ".py",
   "mimetype": "text/x-python",
   "name": "python",
   "nbconvert_exporter": "python",
   "pygments_lexer": "ipython3",
   "version": "3.11.9"
  }
 },
 "nbformat": 4,
 "nbformat_minor": 2
}
